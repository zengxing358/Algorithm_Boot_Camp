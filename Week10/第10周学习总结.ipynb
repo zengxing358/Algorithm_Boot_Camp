{
 "cells": [
  {
   "cell_type": "markdown",
   "source": [
    "# 树状数组"
   ],
   "metadata": {}
  },
  {
   "cell_type": "markdown",
   "source": [
    "树状数组(Binary Indexed Tree, or Fenwick Tree)是一种维护数组前缀和、区间和的数据结构<br>\r\n",
    "思想和跳表有点类似:<br>\r\n",
    "·跳表:添加索引，高效维护链表<br>\r\n",
    "·树状数组:添加索引，高效维护数组<br>"
   ],
   "metadata": {}
  },
  {
   "cell_type": "markdown",
   "source": [
    "## 树状数组的思想"
   ],
   "metadata": {}
  },
  {
   "cell_type": "markdown",
   "source": [
    "### 分块"
   ],
   "metadata": {}
  },
  {
   "cell_type": "markdown",
   "source": [
    "分块的本质还是分治，即对原始数据进行适当划分，并在划分后的每一个快上预处理部分信息，从而较暴力算法取得更优的时间复杂度。与树状数组类似的还有sqrt分解。"
   ],
   "metadata": {}
  },
  {
   "cell_type": "markdown",
   "source": [
    "### 倍增"
   ],
   "metadata": {}
  },
  {
   "cell_type": "markdown",
   "source": [
    "倍增，字面意思就是“成倍增长”。在进行递推时，如果状态空间很大，线性递推无法满足时间与空间复杂度的要求，可以通过成倍增长的方法，只递推状态空间中在2的整数次幂位置上的值作为代表；而当需要其他位置上的值时，可以通过“任意整数可以表示成若干个2的次幂项的和”这一性质，使用之前求出的代表值拼成所需的值。"
   ],
   "metadata": {}
  },
  {
   "cell_type": "markdown",
   "source": [
    "#### 241. 楼兰图腾 https://www.acwing.com/problem/content/243/"
   ],
   "metadata": {}
  },
  {
   "cell_type": "code",
   "execution_count": null,
   "source": [
    "N=200000 \r\n",
    "class Tree:\r\n",
    "    def __init__(self,n):\r\n",
    "        self.tr=[0]*(n+1)\r\n",
    "        self.n=n\r\n",
    "    def lowbit(self,x):\r\n",
    "        return x&(-x)\r\n",
    "    def add(self,i,v):\r\n",
    "        while i<=self.n:\r\n",
    "            self.tr[i]+=v\r\n",
    "            i+=self.lowbit(i)\r\n",
    "    def getpr(self,i):\r\n",
    "        res=0\r\n",
    "        while i:\r\n",
    "            res+=self.tr[i]\r\n",
    "            i-=self.lowbit(i)\r\n",
    "        return res\r\n",
    "\r\n",
    "n=int(input())\r\n",
    "q=[0]*(n+1)\r\n",
    "front_larger=[0]*(n+1)\r\n",
    "front_less=[0]*(n+1)\r\n",
    "back_larger=[0]*(n+1)\r\n",
    "back_less=[0]*(n+1)\r\n",
    "\r\n",
    "q[1:]=list(map(int,input().split()))\r\n",
    "\r\n",
    "tr1=Tree(N+1)\r\n",
    "for i in range(1,n+1):\r\n",
    "    front_larger[i]=tr1.getpr(N)-tr1.getpr(q[i]-1)\r\n",
    "    front_less[i]=tr1.getpr(q[i]-1)\r\n",
    "    tr1.add(q[i],1)\r\n",
    "\r\n",
    "tr2=Tree(N+1)\r\n",
    "for i in range(n,0,-1):\r\n",
    "    back_larger[i]=tr2.getpr(N)-tr2.getpr(q[i]-1)\r\n",
    "    back_less[i]=tr2.getpr(q[i]-1)\r\n",
    "    tr2.add(q[i],1)\r\n",
    "\r\n",
    "up_res,down_res=0,0\r\n",
    "for i in range(1,n+1):\r\n",
    "    up_res+=(front_less[i]*back_less[i])\r\n",
    "    down_res+=(front_larger[i]*back_larger[i])\r\n",
    "\r\n",
    "print(down_res,up_res)"
   ],
   "outputs": [],
   "metadata": {}
  },
  {
   "cell_type": "markdown",
   "source": [
    "#### 242. 一个简单的整数问题 https://www.acwing.com/problem/content/248/"
   ],
   "metadata": {}
  },
  {
   "cell_type": "code",
   "execution_count": null,
   "source": [
    "class NumArray:\r\n",
    "    def __init__(self, nums):\r\n",
    "        nums2=nums.copy()\r\n",
    "        self.n=len(nums)+1\r\n",
    "        self.tree=[0]*(self.n)\r\n",
    "        for i in range(1,self.n):\r\n",
    "            if i!=len(nums):\r\n",
    "                nums2[i]=nums[i]-nums[i-1]\r\n",
    "            self.tree[i]=sum(nums2[i-self.getkbit(i):i])\r\n",
    "\r\n",
    "    def getkbit(self,k):\r\n",
    "        return k&-k\r\n",
    "    \r\n",
    "    def add(self, index: int, val: int):\r\n",
    "        while index<self.n:\r\n",
    "            self.tree[index]+=val\r\n",
    "            index+=self.getkbit(index)\r\n",
    "\r\n",
    "    def getprefix(self,n):\r\n",
    "        res=0\r\n",
    "        while n:\r\n",
    "            res+=self.tree[n]\r\n",
    "            n-=self.getkbit(n)\r\n",
    "        return res\r\n",
    "a=input()\r\n",
    "n,row=[int(i) for i in a.split()]\r\n",
    "b=input()\r\n",
    "arr=[int(i) for i in b.split()]\r\n",
    "tree=NumArray(arr)\r\n",
    "for i in range(row):\r\n",
    "    c=input()\r\n",
    "    op=c.split()[0]\r\n",
    "    if op==\"Q\":\r\n",
    "        idx=int(c.split()[1])\r\n",
    "        print(tree.getprefix(idx))\r\n",
    "    else:\r\n",
    "        left=int(c.split()[1])\r\n",
    "        right=int(c.split()[2])\r\n",
    "        val=int(c.split()[3])\r\n",
    "        tree.add(left,val)\r\n",
    "        tree.add(right+1,-val)"
   ],
   "outputs": [],
   "metadata": {}
  },
  {
   "cell_type": "markdown",
   "source": [
    "## 树状数组的局限性"
   ],
   "metadata": {}
  },
  {
   "cell_type": "markdown",
   "source": [
    "树状数组有实现简单、效率高、省空间等诸多优势,但也有很大的局限性<br>\r\n",
    "维护的信息需要满足区间减法性质<br>\r\n",
    "·不然无法通过前缀和相减得到区间和<br>\r\n",
    "·例如无法直接拿来维护区间最值<br>\r\n",
    "不能很好地支持修改操作<br>\r\n",
    "·单点修改需要先求出差值，转化为增加操作<br>\r\n",
    "·基本上难以支持区间修改（修改连续的一段数据)<br>"
   ],
   "metadata": {}
  },
  {
   "cell_type": "markdown",
   "source": [
    "# 线段树"
   ],
   "metadata": {}
  },
  {
   "cell_type": "markdown",
   "source": [
    "线段树(Segment Tree)是一种基于分治思想的二叉树结构，用于在区间上进行信息统计。<br>\r\n",
    "·线段树的每个节点都代表一个闭区间。<br>\r\n",
    "·线段树具有唯一的根节点，代表的区间是整个统计范围，如[1,N]。<br>\r\n",
    "·线段树的每个叶节点都代表一个长度为1的元区间[x, c]。<br>\r\n",
    "对于每个内部节点[1,r]，它的左子节点是[l,mid]，右子节点是[mid + 1,r]，其中mid = (l+r)/2(向下取整)<br>"
   ],
   "metadata": {}
  },
  {
   "cell_type": "markdown",
   "source": [
    "## 区间修改与延迟标记\r\n"
   ],
   "metadata": {}
  },
  {
   "cell_type": "markdown",
   "source": [
    "区间查询与修改的区别:<br>\r\n",
    "区间查询遇到完全覆盖的区间，可以直接返回，最多处理2logn个结点<br>\r\n",
    "对于完全覆盖的区间，区间修改会影响它的所有子结点，时间复杂度最坏O(n)<br>"
   ],
   "metadata": {}
  },
  {
   "cell_type": "markdown",
   "source": [
    "\r\n",
    "解决方案:懒惰标记（又称延迟标记)<br>\r\n",
    "·回想二叉堆的懒惰删除<br>\r\n",
    "·遇到完全覆盖的区间，先打一个修改标记，只要不到子结点中查询，就不往下继续修改<br>\r\n",
    "·在以后的递归查询/修改中遇到了标记，再往下传递一层<br>"
   ],
   "metadata": {}
  },
  {
   "cell_type": "markdown",
   "source": [
    "时间复杂度优化到O(log(n))<br>\r\n",
    "思想:我mark一下这个bug要改，你们谁以后看见了记得先改一下再run哈，碰不到就不管了<br>"
   ],
   "metadata": {}
  },
  {
   "cell_type": "markdown",
   "source": [
    "# 位运算"
   ],
   "metadata": {}
  },
  {
   "cell_type": "markdown",
   "source": [
    "机器采用二进制对数值进行表示、存储和运算<br>\r\n",
    "在程序中恰当地使用二进制，可以提高运行效率<br>"
   ],
   "metadata": {}
  },
  {
   "cell_type": "markdown",
   "source": [
    "## 异或运算（xor)"
   ],
   "metadata": {}
  },
  {
   "cell_type": "markdown",
   "source": [
    "相同为0，不同为1<br>\r\n",
    "也可用“不进位加法”来理解<br>\r\n",
    "异或运算的特点与应用:<br>\r\n",
    "x ^0=x<br>\r\n",
    "x ^x=0<br>\r\n",
    "结合律: a ^ b ^ c=a ^ (b ^ c)= (a ^ b) ^ c<br>\r\n",
    "成对变换:x^1 (0^1=1,1^1=0; 2^1=3，3^1=2;4^1=5，5^1=4)<br>\r\n",
    "交换两个数: a <- a ^ b, b <- a ^ b, a <- a ^ b<br>"
   ],
   "metadata": {}
  },
  {
   "cell_type": "markdown",
   "source": [
    "## 指定位置的位运算"
   ],
   "metadata": {}
  },
  {
   "cell_type": "markdown",
   "source": [
    "二进制数的最右边为第0位<br>\r\n",
    "获取×在二进制下的第n位（0或者1) :(x >>n)& 1<br>\r\n",
    "将×在二进制下的第n位置为1:x|(1<<n)<br>\r\n",
    "将×在二进制下的第n位置为O: x &(~(1<<n))<br>\r\n",
    "将x在二进制下的第n位取反:x^(1<<n)<br>\r\n",
    "将×最右边的n位清零:x & (~0<<n)<br>\r\n",
    "将×最高位至第n位（含）清零:x& ((1 <<n)- 1)<br>"
   ],
   "metadata": {}
  },
  {
   "cell_type": "markdown",
   "source": [
    "## 位运算实战要点"
   ],
   "metadata": {}
  },
  {
   "cell_type": "markdown",
   "source": [
    "判断奇偶:<br>\r\n",
    "· x % 2 == 1 →(x & 1)== 1<br>\r\n",
    "· x % 2 ==0 →(x & 1)== 0<br>"
   ],
   "metadata": {}
  },
  {
   "cell_type": "markdown",
   "source": [
    "除以2的幂次︰<br>\r\n",
    ". x/2 →x >> 1<br>\r\n",
    ".mid =(left + right)/ 2; mid = (left + right) >> 1;<br>"
   ],
   "metadata": {}
  },
  {
   "cell_type": "markdown",
   "source": [
    "lowbit:<br>\r\n",
    "·得到最低位的1: x & -x或x &(~x+ 1)<br>\r\n",
    "·清零最低位的1: x =x &(x-1)<br>"
   ],
   "metadata": {}
  },
  {
   "cell_type": "markdown",
   "source": [
    "#### 89. a^b https://www.acwing.com/problem/content/91/"
   ],
   "metadata": {}
  },
  {
   "cell_type": "code",
   "execution_count": null,
   "source": [
    "a,b,p=map(int,input().split())\r\n",
    "res=1%p\r\n",
    "while b:\r\n",
    "    if b&1:\r\n",
    "        res=res*a%p\r\n",
    "    a=a*a%p\r\n",
    "    b>>=1\r\n",
    "print(res)"
   ],
   "outputs": [],
   "metadata": {}
  },
  {
   "cell_type": "markdown",
   "source": [
    "#### 90. 64位整数乘法 https://www.acwing.com/problem/content/92/"
   ],
   "metadata": {}
  },
  {
   "cell_type": "code",
   "execution_count": null,
   "source": [
    "a=int(input())\r\n",
    "b=int(input())\r\n",
    "p=int(input())\r\n",
    "res=0%p\r\n",
    "while b:\r\n",
    "    if b&1:\r\n",
    "        res=(res+a)%p\r\n",
    "    a=a*2%p\r\n",
    "    b>>=1\r\n",
    "print(res)"
   ],
   "outputs": [],
   "metadata": {}
  },
  {
   "cell_type": "markdown",
   "source": [
    "#### 91. 最短Hamilton路径 https://www.acwing.com/problem/content/93/"
   ],
   "metadata": {}
  },
  {
   "cell_type": "code",
   "execution_count": null,
   "source": [
    "n=int(input())\r\n",
    "weight=[]\r\n",
    "for i in range(n):\r\n",
    "    a=input()\r\n",
    "    temp=[int(i) for i in a.split()]\r\n",
    "    weight.append(temp)\r\n",
    "m=1<<n\r\n",
    "dp=[[float(\"inf\")]*(m) for _ in range(n)]\r\n",
    "dp[0][1]=0\r\n",
    "for i in range(m):\r\n",
    "    for j in range(n):\r\n",
    "        if (i>>j)&1:\r\n",
    "            for k in range(n):\r\n",
    "                if (i-(1<<j))>>k&1:\r\n",
    "                    dp[j][i]=min(dp[j][i],dp[k][i-(1<<j)]+weight[k][j])\r\n",
    "print(dp[n-1][m-1])"
   ],
   "outputs": [],
   "metadata": {}
  },
  {
   "cell_type": "markdown",
   "source": [
    "# 期末串讲&总复习"
   ],
   "metadata": {}
  },
  {
   "cell_type": "markdown",
   "source": [
    "## 高频主题"
   ],
   "metadata": {}
  },
  {
   "cell_type": "markdown",
   "source": [
    "计算机科学基础:数据结构、树/图、DFS/BFS"
   ],
   "metadata": {}
  },
  {
   "cell_type": "markdown",
   "source": [
    "状态空间与子问题划分<br>\r\n",
    "·递归、分治、动态规划的设计"
   ],
   "metadata": {}
  },
  {
   "cell_type": "markdown",
   "source": [
    "决策与候选集合优化<br>\r\n",
    ".“滑动窗口”系列的多种维护方法，固定一端+移动一端+消除冗余的思想"
   ],
   "metadata": {}
  },
  {
   "cell_type": "markdown",
   "source": [
    "#### *单调栈*"
   ],
   "metadata": {}
  },
  {
   "cell_type": "markdown",
   "source": [
    "#### 131. 直方图中最大的矩形 https://www.acwing.com/problem/content/133/"
   ],
   "metadata": {}
  },
  {
   "cell_type": "code",
   "execution_count": null,
   "source": [
    "def getarea(lst):\r\n",
    "    ans=0\r\n",
    "    lst=[0]+lst+[0]\r\n",
    "    stack=[]\r\n",
    "    for key,val in enumerate(lst):\r\n",
    "        if key==0:\r\n",
    "            stack.append(key)\r\n",
    "        elif val>=lst[stack[-1]]:\r\n",
    "            stack.append(key)\r\n",
    "        elif val<lst[stack[-1]]:\r\n",
    "            while val<lst[stack[-1]]:\r\n",
    "                h=lst[stack.pop()]\r\n",
    "                w=key-stack[-1]-1\r\n",
    "                ans=max(ans,w*h)\r\n",
    "            stack.append(key)\r\n",
    "    return ans\r\n",
    "while True:\r\n",
    "    a=input()\r\n",
    "    if a==\"0\":\r\n",
    "        break\r\n",
    "    lst=list(map(int,a.split()))\r\n",
    "    print(getarea(lst[1:]))"
   ],
   "outputs": [],
   "metadata": {}
  },
  {
   "cell_type": "markdown",
   "source": [
    "#### *单调队列*"
   ],
   "metadata": {}
  },
  {
   "cell_type": "markdown",
   "source": [
    "#### 135. 最大子序和 https://www.acwing.com/problem/content/description/137/"
   ],
   "metadata": {}
  },
  {
   "cell_type": "code",
   "execution_count": null,
   "source": [
    "n,m=map(int,input().split())\r\n",
    "lst=list(map(int,input().split()))\r\n",
    "arr=[0]*(n+1)\r\n",
    "for i in range(n):\r\n",
    "    arr[i+1]=arr[i]+lst[i]\r\n",
    "queue=[0]\r\n",
    "ans=-float(\"inf\")\r\n",
    "for i in range(1,n+1):\r\n",
    "    while queue and queue[0]<i-m:\r\n",
    "        queue.pop(0)\r\n",
    "    \r\n",
    "    ans=max(ans,arr[i]-arr[queue[0]])\r\n",
    "    while queue and arr[queue[-1]]>arr[i]:\r\n",
    "        queue.pop()\r\n",
    "    queue.append(i)\r\n",
    "print(ans)"
   ],
   "outputs": [],
   "metadata": {}
  },
  {
   "cell_type": "markdown",
   "source": [
    "#### 154. 滑动窗口 https://www.acwing.com/problem/content/description/156/"
   ],
   "metadata": {}
  },
  {
   "cell_type": "code",
   "execution_count": null,
   "source": [
    "n,k=map(int,input().split())\r\n",
    "lst=list(map(int,input().split()))\r\n",
    "maxqueue=[]\r\n",
    "minqueue=[]\r\n",
    "maxans=[]\r\n",
    "minans=[]\r\n",
    "for i in range(n):\r\n",
    "    while maxqueue and maxqueue[0]<=i-k:\r\n",
    "        maxqueue.pop(0)\r\n",
    "    while minqueue and minqueue[0]<=i-k:\r\n",
    "        minqueue.pop(0)\r\n",
    "    while maxqueue and lst[maxqueue[-1]]<lst[i]:\r\n",
    "        maxqueue.pop()\r\n",
    "    while minqueue and lst[minqueue[-1]]>lst[i]:\r\n",
    "        minqueue.pop()\r\n",
    "    maxqueue.append(i)\r\n",
    "    minqueue.append(i)\r\n",
    "    if i>=k-1:\r\n",
    "        maxans.append(lst[maxqueue[0]])\r\n",
    "        minans.append(lst[minqueue[0]])\r\n",
    "print(\" \".join([str(i) for i in minans]))\r\n",
    "print(\" \".join([str(i) for i in maxans]))"
   ],
   "outputs": [],
   "metadata": {}
  },
  {
   "cell_type": "markdown",
   "source": [
    "## 高端技巧"
   ],
   "metadata": {}
  },
  {
   "cell_type": "markdown",
   "source": [
    "Pre-calculation:空间换时间（前缀和、差分等)"
   ],
   "metadata": {}
  },
  {
   "cell_type": "markdown",
   "source": [
    "二分答案:求解转化为判定<br>\r\n",
    "二分的基础用法是在单调序列或单调函数中进行查找；因此当问题的答案具有单调性时，就可以通过二分把求解转化为判定。有点类似于数学里碰到一个很难的问题，拿几个值去套答案比直接求解要来得简单，而我们还可以借住计算机强大的算力更快捷地套答案。"
   ],
   "metadata": {}
  },
  {
   "cell_type": "markdown",
   "source": [
    "离线批处理，关键事件思想"
   ],
   "metadata": {}
  },
  {
   "cell_type": "markdown",
   "source": [
    "#### *前缀和*"
   ],
   "metadata": {}
  },
  {
   "cell_type": "markdown",
   "source": [
    "#### 99. 激光炸弹 https://www.acwing.com/problem/content/101/"
   ],
   "metadata": {}
  },
  {
   "cell_type": "code",
   "execution_count": null,
   "source": [
    "N,R=map(int,input().split())\r\n",
    "arr=[[0] * 5010 for _ in range(5010)]\r\n",
    "xmin=float(\"inf\")\r\n",
    "ymin=float(\"inf\")\r\n",
    "xmax=0\r\n",
    "ymax=0\r\n",
    "for i in range(N):\r\n",
    "    x,y,v=map(int,input().split())\r\n",
    "    arr[y+1][x+1]+=v\r\n",
    "    xmin=min(xmin,x)\r\n",
    "    ymin=min(ymin,y)\r\n",
    "    xmax=max(xmax,x)\r\n",
    "    ymax=max(ymax,y)\r\n",
    "for y in range(ymin+1,ymax+2):\r\n",
    "    for x in range(xmin+1,xmax+2):\r\n",
    "        arr[y][x]+=arr[y-1][x]+arr[y][x-1]-arr[y-1][x-1]\r\n",
    "res=0\r\n",
    "for y in range(ymin+1,ymax+2):\r\n",
    "    for x in range(xmin+1,xmax+2):\r\n",
    "        ry,rx=min(ymax+1,y+R-1),min(xmax+1,x+R-1)\r\n",
    "        res=max(res,arr[ry][rx]+arr[y-1][x-1]-arr[ry][x-1]-arr[y-1][rx])\r\n",
    "print(res)"
   ],
   "outputs": [],
   "metadata": {}
  },
  {
   "cell_type": "markdown",
   "source": [
    "#### *差分*"
   ],
   "metadata": {}
  },
  {
   "cell_type": "markdown",
   "source": [
    "#### 101. 最高的牛 https://www.acwing.com/problem/content/103/"
   ],
   "metadata": {}
  },
  {
   "cell_type": "code",
   "execution_count": null,
   "source": [
    "N,P,H,M =map(int,input().split())\r\n",
    "height=[0]*N\r\n",
    "s=set()\r\n",
    "for i in range(M):\r\n",
    "    left,right=map(int,input().split())\r\n",
    "    if left>right:\r\n",
    "        left,right=right,left\r\n",
    "    if (left,right) not in s:\r\n",
    "        s.add((left,right))\r\n",
    "        if left!=right:\r\n",
    "            height[left]-=1\r\n",
    "            height[right-1]+=1\r\n",
    "res=[H+height[0]]\r\n",
    "for i in range(1,N):\r\n",
    "    height[i]=height[i]+height[i-1]\r\n",
    "    res.append(H+height[i])\r\n",
    "for i in res:\r\n",
    "    print(i)"
   ],
   "outputs": [],
   "metadata": {}
  },
  {
   "cell_type": "markdown",
   "source": [
    "#### *二分*"
   ],
   "metadata": {}
  },
  {
   "cell_type": "markdown",
   "source": [
    "#### 789. 数的范围 https://www.acwing.com/problem/content/description/791/"
   ],
   "metadata": {}
  },
  {
   "cell_type": "code",
   "execution_count": null,
   "source": [
    "n,m=map(int,input().split())\r\n",
    "lst=list(map(int,input().split()))\r\n",
    "def find(arr,target,n):\r\n",
    "    left=0\r\n",
    "    right=n\r\n",
    "    ans=[]\r\n",
    "    while left<right:\r\n",
    "        mid=(left+right)>>1\r\n",
    "        if arr[mid]>=target:\r\n",
    "            right=mid\r\n",
    "        else:\r\n",
    "            left=mid+1\r\n",
    "    ans.append(left)\r\n",
    "    left=-1\r\n",
    "    right=n-1\r\n",
    "    while left<right:\r\n",
    "        mid=(left+right+1)>>1\r\n",
    "        if arr[mid]<=target:\r\n",
    "            left=mid\r\n",
    "        else:\r\n",
    "            right=mid-1\r\n",
    "    ans.append(left)\r\n",
    "    if ans[0]>ans[1]:\r\n",
    "        return [-1,-1]\r\n",
    "    return ans\r\n",
    "for i in range(m):\r\n",
    "    t=int(input())\r\n",
    "    print(\" \".join([str(i) for i in find(lst,t,n)]))"
   ],
   "outputs": [],
   "metadata": {}
  },
  {
   "cell_type": "markdown",
   "source": [
    "# 课程总结"
   ],
   "metadata": {}
  },
  {
   "cell_type": "markdown",
   "source": [
    "## 三条主线"
   ],
   "metadata": {}
  },
  {
   "cell_type": "markdown",
   "source": [
    "线性结构线：数组、链表-->栈、队列-->前缀和、差分-->双指针、滑动窗-->哈希、集合、映射-->字符串<br>\r\n",
    "树形结构线：递归、分治-->树、图-->搜索-->堆、二叉搜索树-->字典树、并查集-->图论算法<br>\r\n",
    "状态空间先：（搜索）-->动态规划、贪心-->图论算法"
   ],
   "metadata": {}
  },
  {
   "cell_type": "markdown",
   "source": [
    "## 两个副本"
   ],
   "metadata": {}
  },
  {
   "cell_type": "markdown",
   "source": [
    "\r\n",
    "顺序优化副本：排序、二分<br>\r\n",
    "高级数据结构副本：平衡树、跳表、树状数组、线段树"
   ],
   "metadata": {}
  },
  {
   "cell_type": "markdown",
   "source": [
    "#### 排序的离散化"
   ],
   "metadata": {}
  },
  {
   "cell_type": "markdown",
   "source": [
    "排序的第一个应用是离散化，就是把无穷大集合中的若干元素映射为有限集合以便于统计的方法"
   ],
   "metadata": {}
  }
 ],
 "metadata": {
  "orig_nbformat": 4,
  "language_info": {
   "name": "python"
  }
 },
 "nbformat": 4,
 "nbformat_minor": 2
}