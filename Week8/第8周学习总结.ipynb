{
 "cells": [
  {
   "cell_type": "markdown",
   "source": [
    "# 图论算法"
   ],
   "metadata": {}
  },
  {
   "cell_type": "markdown",
   "source": [
    "图是图论的主要研究对象。图是由若干给定的顶点及连接两顶点的边所构成的图形，这种图形通常用来描述某些事物之间的某种特定关系。顶点用于代表事物，连接两顶点的边则用于表示两个事物间具有这种关系。"
   ],
   "metadata": {}
  },
  {
   "cell_type": "markdown",
   "source": [
    "## 最短路"
   ],
   "metadata": {}
  },
  {
   "cell_type": "markdown",
   "source": [
    "## *单源最短路径*"
   ],
   "metadata": {}
  },
  {
   "cell_type": "markdown",
   "source": [
    "### Bellman-Ford算法"
   ],
   "metadata": {}
  },
  {
   "cell_type": "markdown",
   "source": [
    "Bellman-Ford算法是基于动态规划和迭代思想的<br>\r\n",
    "1.扫描所有边(x, y,z)，若dist[y] > dist[x]+z，则用dist[x]+z更新dist[y]。<br>\r\n",
    "2.重复上述步骤，直到没有更新操作发生<br>\r\n",
    "若问题有解（图中没有负环)，Bellman-Ford“扫描所有边并更新”的过程至多执行n-1轮原因:一条最短路至多包含n-1条边<br>\r\n",
    "时间复杂度O(nm)<br>\r\n",
    "可以把每一轮看作DP的一个阶段<br>\r\n",
    "第i轮至少已经求出了包含边数不超过i的最短路"
   ],
   "metadata": {}
  },
  {
   "cell_type": "markdown",
   "source": [
    "### Dijkstra算法"
   ],
   "metadata": {}
  },
  {
   "cell_type": "markdown",
   "source": [
    "Dijkstra 算法是基于贪心思想的，只适用于所有边的长度都是非负数的图<br>\r\n",
    "1.初始化dist[1]=0，其余节点的dist值为正无穷大。<br>\r\n",
    "2.找出一个未被标记的、dist[x]最小的节点x，然后标记节点x。<br>\r\n",
    "3.扫描节点x的所有出边(x, y,z)，若dist[y] > dist[x]+z，则使用dist[x]+z更新dist[y]。4.重复上述2~3两个步骤，直到所有节点都被标记。"
   ],
   "metadata": {}
  },
  {
   "cell_type": "markdown",
   "source": [
    "#### Floyd 算法"
   ],
   "metadata": {}
  },
  {
   "cell_type": "markdown",
   "source": [
    "本质是动态规划，时间复杂度O(n**3)"
   ],
   "metadata": {}
  },
  {
   "cell_type": "markdown",
   "source": [
    "## 最小生成树"
   ],
   "metadata": {}
  },
  {
   "cell_type": "markdown",
   "source": [
    "### Kruskal算法"
   ],
   "metadata": {}
  },
  {
   "cell_type": "markdown",
   "source": [
    "Kruskal算法总是使用并查集维护无向图的最小生成森林<br>\r\n",
    "1.建立并查集，每个点各自构成一个集合。<br>\r\n",
    "2.把所有边按照权值从小到大排序，依次扫描每条边(x, y,z)。<br>\r\n",
    "3.若x, y属于同一集合（连通），则忽略这条边，继续扫描下一条。<br>\r\n",
    "4.否则，合并x,y所在的集合，并把z累加到答案中。<br>\r\n",
    "5.所有边扫描完成后，第4步中处理过的边就构成最小生成树。<br>\r\n",
    "时间复杂度为o(m log m)。"
   ],
   "metadata": {}
  },
  {
   "cell_type": "markdown",
   "source": [
    "# 字符串处理"
   ],
   "metadata": {}
  },
  {
   "cell_type": "markdown",
   "source": [
    "### Rabin-Karp算法"
   ],
   "metadata": {}
  },
  {
   "cell_type": "markdown",
   "source": [
    "Rabin-Karp是一种基于Hash的高效的字符串搜索算法<br>\r\n",
    "思路:<br>\r\n",
    "计算s的每个长度为m的子串的Hash值（一个宽度为m的滑动窗口滑过s)检查是否与长度为m的模式串t的Hash值相等<br>\r\n",
    "选用的Hash函数:<br>\r\n",
    "把字符串看作一个b进制数（一个多项式），计算它（在十进制下）对p取模的值<br>\r\n",
    "选取的b和p的值决定了Hash函数的质量<br>\r\n",
    "根据经验，b=131,13331等，p为大质数，冲突概率极小<br>\r\n",
    "Hash值相等时可以再比对一下两个字符串，避免 Hash碰撞问题\r\n"
   ],
   "metadata": {}
  },
  {
   "cell_type": "markdown",
   "source": [
    "## 字符串匹配"
   ],
   "metadata": {}
  },
  {
   "cell_type": "markdown",
   "source": [
    "### Rabin-Karp字符串匹配"
   ],
   "metadata": {}
  },
  {
   "cell_type": "markdown",
   "source": [
    "使用Rabin-Karp解决字符串匹配问题的思路是:<br>\r\n",
    "1．计算长度为m 的模式串t的 hash值 hash_pattern,o(m)<br>\r\n",
    "2．计算长度为n的文本串s中每个长度为m的子串的hash值，共需要计算n-m+1次<br>\r\n",
    "3.比较每个子串和模式串的hash 值，如果hash值不同，必然不匹配<br>\r\n",
    "4．如果hash 值相同，还需要使用朴素算法再次判断<br>\r\n",
    "在hash选取较好的情况下，可以做到O(n+m)"
   ],
   "metadata": {}
  },
  {
   "cell_type": "markdown",
   "source": [
    "### KMP模式匹配算法"
   ],
   "metadata": {}
  },
  {
   "cell_type": "markdown",
   "source": [
    "KMP算法先对模式串t进行自匹配，求出一个数组next<br>\r\n",
    "假设字符串下标从1开始<br>\r\n",
    "next[i]表示“t中以i结尾的非前缀子串”与“t的前缀”能够匹配的最长长度，即:<br>\r\n",
    "next[i] = maxj}，其中j<i并且t[i一j+1~i]= t[1~j]<br>\r\n",
    "当不存在这样的j时，令next[i]=0"
   ],
   "metadata": {}
  },
  {
   "cell_type": "markdown",
   "source": [
    "时间复杂度?<br>\r\n",
    "看似是两重循环，但是j的值不断减小<br>\r\n",
    "因为j始终非负，所以在整个计算过程中，j减小的幅度总和不会超过j增加的幅度总和<br>\r\n",
    "故j的总变化次数至多为2(N ＋M)<br>\r\n",
    "整个算法的时间复杂度为O(N ＋M)<br>"
   ],
   "metadata": {}
  }
 ],
 "metadata": {
  "orig_nbformat": 4,
  "language_info": {
   "name": "python"
  }
 },
 "nbformat": 4,
 "nbformat_minor": 2
}