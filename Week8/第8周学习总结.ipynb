{
 "cells": [
  {
   "cell_type": "markdown",
   "source": [
    "# 图论算法"
   ],
   "metadata": {}
  },
  {
   "cell_type": "markdown",
   "source": [
    "图是图论的主要研究对象。图是由若干给定的顶点及连接两顶点的边所构成的图形，这种图形通常用来描述某些事物之间的某种特定关系。顶点用于代表事物，连接两顶点的边则用于表示两个事物间具有这种关系。"
   ],
   "metadata": {}
  },
  {
   "cell_type": "markdown",
   "source": [
    "## 最短路"
   ],
   "metadata": {}
  },
  {
   "cell_type": "markdown",
   "source": [
    "## *单源最短路径*"
   ],
   "metadata": {}
  },
  {
   "cell_type": "markdown",
   "source": [
    "### Bellman-Ford算法"
   ],
   "metadata": {}
  },
  {
   "cell_type": "markdown",
   "source": [
    "Bellman-Ford算法是基于动态规划和迭代思想的<br>\r\n",
    "1.扫描所有边(x, y,z)，若dist[y] > dist[x]+z，则用dist[x]+z更新dist[y]。<br>\r\n",
    "2.重复上述步骤，直到没有更新操作发生<br>\r\n",
    "若问题有解（图中没有负环)，Bellman-Ford“扫描所有边并更新”的过程至多执行n-1轮原因:一条最短路至多包含n-1条边<br>\r\n",
    "时间复杂度O(nm)<br>\r\n",
    "可以把每一轮看作DP的一个阶段<br>\r\n",
    "第i轮至少已经求出了包含边数不超过i的最短路"
   ],
   "metadata": {}
  },
  {
   "cell_type": "markdown",
   "source": [
    "### Dijkstra算法"
   ],
   "metadata": {}
  },
  {
   "cell_type": "markdown",
   "source": [
    "Dijkstra 算法是基于贪心思想的，只适用于所有边的长度都是非负数的图<br>\r\n",
    "1.初始化dist[1]=0，其余节点的dist值为正无穷大。<br>\r\n",
    "2.找出一个未被标记的、dist[x]最小的节点x，然后标记节点x。<br>\r\n",
    "3.扫描节点x的所有出边(x, y,z)，若dist[y] > dist[x]+z，则使用dist[x]+z更新dist[y]。4.重复上述2~3两个步骤，直到所有节点都被标记。"
   ],
   "metadata": {}
  },
  {
   "cell_type": "markdown",
   "source": [
    "#### Floyd 算法"
   ],
   "metadata": {}
  },
  {
   "cell_type": "markdown",
   "source": [
    "本质是动态规划，时间复杂度O(n**3)"
   ],
   "metadata": {}
  },
  {
   "cell_type": "markdown",
   "source": [
    "## 最小生成树"
   ],
   "metadata": {}
  },
  {
   "cell_type": "markdown",
   "source": [
    "### Kruskal算法"
   ],
   "metadata": {}
  },
  {
   "cell_type": "markdown",
   "source": [
    "Kruskal算法总是使用并查集维护无向图的最小生成森林<br>\r\n",
    "1.建立并查集，每个点各自构成一个集合。<br>\r\n",
    "2.把所有边按照权值从小到大排序，依次扫描每条边(x, y,z)。<br>\r\n",
    "3.若x, y属于同一集合（连通），则忽略这条边，继续扫描下一条。<br>\r\n",
    "4.否则，合并x,y所在的集合，并把z累加到答案中。<br>\r\n",
    "5.所有边扫描完成后，第4步中处理过的边就构成最小生成树。<br>\r\n",
    "时间复杂度为o(m log m)。"
   ],
   "metadata": {}
  },
  {
   "cell_type": "markdown",
   "source": [
    "# 字符串处理"
   ],
   "metadata": {}
  },
  {
   "cell_type": "markdown",
   "source": [
    "### Rabin-Karp算法"
   ],
   "metadata": {}
  },
  {
   "cell_type": "markdown",
   "source": [
    "Rabin-Karp是一种基于Hash的高效的字符串搜索算法<br>\r\n",
    "思路:<br>\r\n",
    "计算s的每个长度为m的子串的Hash值（一个宽度为m的滑动窗口滑过s)检查是否与长度为m的模式串t的Hash值相等<br>\r\n",
    "选用的Hash函数:<br>\r\n",
    "把字符串看作一个b进制数（一个多项式），计算它（在十进制下）对p取模的值<br>\r\n",
    "选取的b和p的值决定了Hash函数的质量<br>\r\n",
    "根据经验，b=131,13331等，p为大质数，冲突概率极小<br>\r\n",
    "Hash值相等时可以再比对一下两个字符串，避免 Hash碰撞问题\r\n"
   ],
   "metadata": {}
  },
  {
   "cell_type": "markdown",
   "source": [
    "## 字符串匹配"
   ],
   "metadata": {}
  },
  {
   "cell_type": "markdown",
   "source": [
    "### Rabin-Karp字符串匹配"
   ],
   "metadata": {}
  },
  {
   "cell_type": "markdown",
   "source": [
    "使用Rabin-Karp解决字符串匹配问题的思路是:<br>\r\n",
    "1．计算长度为m 的模式串t的 hash值 hash_pattern,o(m)<br>\r\n",
    "2．计算长度为n的文本串s中每个长度为m的子串的hash值，共需要计算n-m+1次<br>\r\n",
    "3.比较每个子串和模式串的hash 值，如果hash值不同，必然不匹配<br>\r\n",
    "4．如果hash 值相同，还需要使用朴素算法再次判断<br>\r\n",
    "在hash选取较好的情况下，可以做到O(n+m)"
   ],
   "metadata": {}
  },
  {
   "cell_type": "markdown",
   "source": [
    "### KMP模式匹配算法"
   ],
   "metadata": {}
  },
  {
   "cell_type": "markdown",
   "source": [
    "KMP算法先对模式串t进行自匹配，求出一个数组next<br>\r\n",
    "假设字符串下标从1开始<br>\r\n",
    "next[i]表示“t中以i结尾的非前缀子串”与“t的前缀”能够匹配的最长长度，即:<br>\r\n",
    "next[i] = maxj}，其中j<i并且t[i一j+1~i]= t[1~j]<br>\r\n",
    "当不存在这样的j时，令next[i]=0"
   ],
   "metadata": {}
  },
  {
   "cell_type": "markdown",
   "source": [
    "时间复杂度?<br>\r\n",
    "看似是两重循环，但是j的值不断减小<br>\r\n",
    "因为j始终非负，所以在整个计算过程中，j减小的幅度总和不会超过j增加的幅度总和<br>\r\n",
    "故j的总变化次数至多为2(N ＋M)<br>\r\n",
    "整个算法的时间复杂度为O(N ＋M)<br>"
   ],
   "metadata": {}
  },
  {
   "cell_type": "markdown",
   "source": [
    "#### 831. KMP字符串 https://www.acwing.com/problem/content/description/833/"
   ],
   "metadata": {}
  },
  {
   "cell_type": "code",
   "execution_count": null,
   "source": [
    "pn=int(input())\r\n",
    "p=input()\r\n",
    "sn=int(input())\r\n",
    "s=input()\r\n",
    "pr=[0]*(pn+1)\r\n",
    "i=0\r\n",
    "j=1\r\n",
    "while j<pn:\r\n",
    "    if p[i]==p[j]:\r\n",
    "        i+=1\r\n",
    "        j+=1\r\n",
    "        pr[j]=i\r\n",
    "    else:\r\n",
    "        if i==0:\r\n",
    "            j+=1\r\n",
    "        else:\r\n",
    "            i=pr[i]\r\n",
    "i=0\r\n",
    "j=0\r\n",
    "while i<sn:\r\n",
    "    if p[j]==s[i]:\r\n",
    "        i+=1\r\n",
    "        j+=1\r\n",
    "    else:\r\n",
    "        if j:\r\n",
    "            j=pr[j]\r\n",
    "        else:\r\n",
    "            i+=1\r\n",
    "    if j==pn:\r\n",
    "        print(i-j,end=\" \")\r\n",
    "        j=pr[j]"
   ],
   "outputs": [],
   "metadata": {}
  },
  {
   "cell_type": "markdown",
   "source": [
    "## 期中小结"
   ],
   "metadata": {}
  },
  {
   "cell_type": "markdown",
   "source": [
    "常规题错得有点多，审题不够仔细，知识点还需要多复习"
   ],
   "metadata": {}
  },
  {
   "cell_type": "markdown",
   "source": [
    "第二题，链表相关<br>\r\n",
    "\r\n",
    "下面哪项不是链表优于数组的特点?（D）<br>\r\n",
    "A. 方便删除<br>\r\n",
    "B. 方便插入<br>\r\n",
    "C. 长度可变<br>\r\n",
    "D. 存储空间小<br>\r\n",
    "\r\n",
    "难度：2星（总5星）【参考解析】链表方便删除和插入，只需知道结点和要插入的信息即可；长度可变，一般链表是动态分配内存空间；链表的结点信息至少包含数据域和指针域，相同数据下：数组的大小是链表大小的子集，所以选D。\r\n"
   ],
   "metadata": {}
  },
  {
   "cell_type": "markdown",
   "source": [
    "链表是不需要连续空间，但存储空间不一定小"
   ],
   "metadata": {}
  },
  {
   "cell_type": "markdown",
   "source": [
    "第五题，队列相关<br>\r\n",
    "\r\n",
    "已知循环队列存储在一维数组A[0..n-1]中，且队列非空时 front 和 rear 分别指向队头和队尾元素。若初始时队列为空，且要求第 1 个进入队列的元素存储在 A[0]处，则初始时 front和 rear 的值分别是（B ）。  \r\n",
    "\r\n",
    "A. 0， 0<br>\r\n",
    "B. 0， n-1 <br>\r\n",
    "C. n-1， 0 <br>\r\n",
    "D. n-1， n-1<br>\r\n",
    "\r\n",
    "难度：4星（总5星）【参考解析】插入时，队头指针不变，队尾指针后移一位。该题约定队列非空时 front   和 rear 分别指向队头和队尾元素，即插入第一个元素在下标为0的位置后，队头队尾指针皆指向A[0]，此时可以反推出插入前，队头指针仍旧指向下标0，而队尾指针应指向前一位，也就是下标n-1的位置。注意，这道题的约定与大多数题约定队列为空时front=rear=0是不一样的约定，都是根据题意解题。"
   ],
   "metadata": {}
  },
  {
   "cell_type": "markdown",
   "source": [
    "第九题，DFS相关\r\n",
    "\r\n",
    "下列关于树的深度优先搜索算法描述错误的是？(B) <br>\r\n",
    "A. 按照某种条件往前试探搜索，如果前进中遭到失败，则退回头另选通路继续搜索，直到找到条件的目标为止。<br>\r\n",
    "B. 先记录该节点所有的子节点，然后选取它未访问过的子节点重复上述过程，直到找到条件的目标为止。 <br>\r\n",
    "C. 假设树的顶点数为V，则算法的空间复杂度为O(V) <br>\r\n",
    "D. 深度优先算法非常适合使用递归来实现<br>\r\n",
    "难度：3星（总5星）【参考解析】B选项描述的是广度优先遍历（BFS）。<br>"
   ],
   "metadata": {}
  },
  {
   "cell_type": "markdown",
   "source": [
    "第十三题，哈希相关<br>\r\n",
    "以下哪个不属于单向哈希表的特征（假设哈希函数设计良好）（B） <br>\r\n",
    "A. 它把任意长度的信息转换成固定的长度输出<br>\r\n",
    "B. 它把固定的信息转换成任意长度信息输出<br>\r\n",
    "C. 根据特定的哈希值，它可以找到对应的原信息值 <br>\r\n",
    "D. 不同的信息很难产生一样的哈希值<br>\r\n",
    "难度：3星（总5星）【参考解析】哈希表（Hash   Table）是一种根据关键字直接访问内存存储位置的数据结构。通过哈希表，数据元素的存放位置和数据元素的关键字之间建立起某种对应关系。   A，hash函数可以把字符串等任意长度的输入映射成固定长度的整数，也就是哈希值   B，与A说法相反，错误   C，哈希表建立了哈希值与原值信息存储之间的联系，可以通过哈希值查找到原值信息   D，不同的信息产生相同的哈希值叫哈希冲突。设计哈希函数应尽量避免哈希冲突。因此一般很难冲突。"
   ],
   "metadata": {}
  },
  {
   "cell_type": "markdown",
   "source": [
    "#### 四数之和（力扣第 18 题）"
   ],
   "metadata": {}
  },
  {
   "cell_type": "code",
   "execution_count": null,
   "source": [
    "class Solution:\r\n",
    "    def fourSum(self, nums: List[int], target: int) -> List[List[int]]:\r\n",
    "        nums.sort()\r\n",
    "        n=len(nums)\r\n",
    "        return self.numSum(nums,target,n,4)\r\n",
    "    def numSum(self,nums,target,n,num):\r\n",
    "        res=[]\r\n",
    "        if num==1:\r\n",
    "            for i in range(n):\r\n",
    "                if i>0 and nums[i-1]==nums[i]:\r\n",
    "                    continue\r\n",
    "                if nums[i]==target:\r\n",
    "                    res.append([nums[i]])\r\n",
    "            return res\r\n",
    "        if sum(nums[:num])>target:\r\n",
    "            return res\r\n",
    "        for i in range(n-num+1):\r\n",
    "            if i>0 and nums[i-1]==nums[i]:\r\n",
    "                continue\r\n",
    "            if arrs:=self.numSum(nums[i+1:],target-nums[i],n-i-1,num-1):\r\n",
    "                res.extend([[nums[i]]+arr for arr in arrs])\r\n",
    "        return res"
   ],
   "outputs": [],
   "metadata": {}
  }
 ],
 "metadata": {
  "orig_nbformat": 4,
  "language_info": {
   "name": "python"
  }
 },
 "nbformat": 4,
 "nbformat_minor": 2
}