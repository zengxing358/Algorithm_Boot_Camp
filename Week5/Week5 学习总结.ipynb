{
 "cells": [
  {
   "cell_type": "markdown",
   "metadata": {},
   "source": [
    "# 排序"
   ]
  },
  {
   "cell_type": "markdown",
   "metadata": {},
   "source": [
    "## 排序算法分类"
   ]
  },
  {
   "cell_type": "markdown",
   "metadata": {},
   "source": [
    "### 基于比较的排序"
   ]
  },
  {
   "cell_type": "markdown",
   "metadata": {},
   "source": [
    "通过比较大小来决定元素见的相对次序<br>\n",
    "可以证明时间复杂度的下界为O(log N)——不可能突破这个复杂度达到更快"
   ]
  },
  {
   "cell_type": "markdown",
   "metadata": {},
   "source": [
    "#### 变换排序"
   ]
  },
  {
   "cell_type": "markdown",
   "metadata": {},
   "source": [
    "##### 冒泡排序"
   ]
  },
  {
   "cell_type": "markdown",
   "metadata": {},
   "source": [
    "不断循环扫描，每次查看相邻元素，如果逆序，则交换，O(N**2)"
   ]
  },
  {
   "cell_type": "code",
   "execution_count": 5,
   "metadata": {},
   "outputs": [
    {
     "name": "stdout",
     "output_type": "stream",
     "text": [
      "[1, 2, 3, 4, 5, 6, 7, 8]\n"
     ]
    }
   ],
   "source": [
    "arr=[1,3,5,7,2,4,6,8]\n",
    "def bubble(arr):\n",
    "    n=len(arr)\n",
    "    for i in range(n-1,-1,-1):\n",
    "        frag=True\n",
    "        for j in range(n-1,n-i-1,-1):\n",
    "            if arr[j]<arr[j-1]:\n",
    "                arr[j-1],arr[j]=arr[j],arr[j-1]\n",
    "                frag=False\n",
    "        if frag:\n",
    "            break\n",
    "bubble(arr)\n",
    "print(arr)"
   ]
  },
  {
   "cell_type": "markdown",
   "metadata": {},
   "source": [
    "##### 快速排序"
   ]
  },
  {
   "cell_type": "markdown",
   "metadata": {},
   "source": [
    "基于分治，O(N*log N)<br>\n",
    "1、从数组中选取中轴元素pivot<br>\n",
    "2、将小元素放在pivot左边，大元素放在右边<br>\n",
    "3、然后分别对左右的子数组进行同样的操作"
   ]
  },
  {
   "cell_type": "code",
   "execution_count": 12,
   "metadata": {},
   "outputs": [
    {
     "name": "stdout",
     "output_type": "stream",
     "text": [
      "[1, 2, 2, 2, 3, 3, 4, 6, 7, 9, 19]\n"
     ]
    }
   ],
   "source": [
    "arr=[2,3,1,3,2,4,6,7,9,2,19]\n",
    "def quicksort(arr,start,end):\n",
    "    import random\n",
    "    if start>=end:\n",
    "        return\n",
    "    p=random.randint(start,end)\n",
    "    arr[start],arr[p]=arr[p],arr[start]\n",
    "    left=start+1\n",
    "    right=end\n",
    "    while left<=right:\n",
    "        while left<=right and arr[left]<arr[start]:\n",
    "            left+=1\n",
    "        while right>=left and arr[right]>arr[start]:\n",
    "            right-=1\n",
    "        if left<=right:\n",
    "            arr[left],arr[right]=arr[right],arr[left]\n",
    "            left+=1\n",
    "            right-=1\n",
    "    arr[start],arr[right]=arr[right],arr[start]\n",
    "    quicksort(arr,start,right-1)\n",
    "    quicksort(arr,right+1,end)\n",
    "quicksort(arr,0,len(arr)-1)\n",
    "print(arr)"
   ]
  },
  {
   "cell_type": "markdown",
   "metadata": {},
   "source": [
    "#### 插入排序"
   ]
  },
  {
   "cell_type": "markdown",
   "metadata": {},
   "source": [
    "##### 简单插入排序"
   ]
  },
  {
   "cell_type": "markdown",
   "metadata": {},
   "source": [
    "Insertion Sort——“这个数该放哪儿？”<br>\n",
    "从前到后依次考虑每个未排序数据，在已排序序列中找到合适位置插入"
   ]
  },
  {
   "cell_type": "code",
   "execution_count": 16,
   "metadata": {},
   "outputs": [
    {
     "name": "stdout",
     "output_type": "stream",
     "text": [
      "[1, 2, 2, 2, 3, 3, 4, 6, 7, 9, 19]\n"
     ]
    }
   ],
   "source": [
    "arr=[2,3,1,3,2,4,6,7,9,2,19]\n",
    "def InsertionSort(nums):\n",
    "    n=len(nums)\n",
    "    for i in range(1,n):\n",
    "        temp=nums[i]\n",
    "        j=i\n",
    "        while j>0 and nums[j-1]>temp:\n",
    "            nums[j]=nums[j-1]\n",
    "            j-=1\n",
    "        nums[j]=temp\n",
    "InsertionSort(arr)\n",
    "print(arr)"
   ]
  },
  {
   "cell_type": "markdown",
   "metadata": {},
   "source": [
    "##### 147. 对链表进行插入排序\n",
    "https://leetcode-cn.com/problems/insertion-sort-list/"
   ]
  },
  {
   "cell_type": "code",
   "execution_count": null,
   "metadata": {},
   "outputs": [],
   "source": [
    "class Solution:\n",
    "    def insertionSortList(self, head: ListNode) -> ListNode:\n",
    "        dummy=ListNode(-float(\"inf\"))\n",
    "        dummy.next=head\n",
    "        sortedList=head\n",
    "        cur=head.next\n",
    "        while cur:\n",
    "            if sortedList.val<=cur.val:\n",
    "                sortedList=sortedList.next\n",
    "                cur=cur.next\n",
    "            else:\n",
    "                pre=dummy\n",
    "                while pre.next.val<=cur.val:\n",
    "                    pre=pre.next\n",
    "                sortedList.next=cur.next\n",
    "                cur.next=pre.next\n",
    "                pre.next=cur\n",
    "                cur=sortedList.next\n",
    "        return dummy.next"
   ]
  },
  {
   "cell_type": "markdown",
   "metadata": {},
   "source": [
    "##### 希尔排序"
   ]
  },
  {
   "cell_type": "markdown",
   "metadata": {},
   "source": [
    "对插入排序的优化——增量分组插入排序（分治思想）"
   ]
  },
  {
   "cell_type": "code",
   "execution_count": 31,
   "metadata": {},
   "outputs": [
    {
     "name": "stdout",
     "output_type": "stream",
     "text": [
      "[1, 2, 2, 2, 3, 3, 4, 6, 7, 9, 19]\n"
     ]
    }
   ],
   "source": [
    "arr=[2,3,1,3,2,4,6,7,9,2,19]\n",
    "def ShellSort(arr):\n",
    "    h=len(arr)//2\n",
    "    while h:\n",
    "        for start in range(h):\n",
    "            for i in range(start+h,len(arr),h):\n",
    "                temp=arr[i]\n",
    "                j=i\n",
    "                while j-h>=0:\n",
    "                    if temp<arr[j-h]:\n",
    "                        arr[j]=arr[j-h]\n",
    "                        j-=h\n",
    "                    else:\n",
    "                        break\n",
    "                arr[j]=temp\n",
    "        h>>=1\n",
    "ShellSort(arr)\n",
    "print(arr)"
   ]
  },
  {
   "cell_type": "markdown",
   "metadata": {},
   "source": [
    "#### 选择排序"
   ]
  },
  {
   "cell_type": "markdown",
   "metadata": {},
   "source": [
    "##### 简单选择排序"
   ]
  },
  {
   "cell_type": "markdown",
   "metadata": {},
   "source": [
    "Selection Sort——\"该放哪个数了？\"<br>\n",
    "每次从为排序数据中找到最小值，放到已排序的末尾"
   ]
  },
  {
   "cell_type": "code",
   "execution_count": 14,
   "metadata": {},
   "outputs": [
    {
     "name": "stdout",
     "output_type": "stream",
     "text": [
      "[1, 2, 2, 2, 3, 3, 4, 6, 7, 9, 19]\n"
     ]
    }
   ],
   "source": [
    "arr=[2,3,1,3,2,4,6,7,9,2,19]\n",
    "def SelectionSort(arr):\n",
    "    n=len(arr)\n",
    "    for i in range(n-1):\n",
    "        minidx=i\n",
    "        for j in range(i+1,n):\n",
    "            if arr[j]<arr[minidx]:\n",
    "                minidx=j\n",
    "        arr[i],arr[minidx]=arr[minidx],arr[i]\n",
    "SelectionSort(arr)\n",
    "print(arr)"
   ]
  },
  {
   "cell_type": "markdown",
   "metadata": {},
   "source": [
    "##### 堆排序"
   ]
  },
  {
   "cell_type": "markdown",
   "metadata": {},
   "source": [
    "对选择排序的优化，利用二叉堆高效地选出最小值"
   ]
  },
  {
   "cell_type": "code",
   "execution_count": 27,
   "metadata": {},
   "outputs": [
    {
     "name": "stdout",
     "output_type": "stream",
     "text": [
      "[1, 2, 2, 2, 3, 3, 4, 6, 7, 9, 19]\n"
     ]
    }
   ],
   "source": [
    "arr=[2,3,1,3,2,4,6,7,9,2,19]\n",
    "import heapq\n",
    "def heapSort(arr):\n",
    "    res=[]\n",
    "    heapq.heapify(arr)\n",
    "    while arr:\n",
    "        res.append(heapq.heappop(arr))\n",
    "    return res\n",
    "res=heapSort(arr)\n",
    "print(res)"
   ]
  },
  {
   "cell_type": "markdown",
   "metadata": {},
   "source": [
    "#### 归并排序"
   ]
  },
  {
   "cell_type": "markdown",
   "metadata": {},
   "source": [
    "##### 二路归并排序"
   ]
  },
  {
   "cell_type": "markdown",
   "metadata": {},
   "source": [
    "把数组分成前一半、后一半，分别排序，然后再合并左右两半（分治思想）"
   ]
  },
  {
   "cell_type": "code",
   "execution_count": 17,
   "metadata": {},
   "outputs": [
    {
     "name": "stdout",
     "output_type": "stream",
     "text": [
      "[1, 2, 2, 2, 3, 3, 4, 6, 7, 9, 19]\n"
     ]
    }
   ],
   "source": [
    "arr=[2,3,1,3,2,4,6,7,9,2,19]\n",
    "def MergeSort(arr):\n",
    "    n=len(arr)\n",
    "    if n<=1:\n",
    "        return arr\n",
    "    mid=n//2\n",
    "    left=MergeSort(arr[:mid])\n",
    "    right=MergeSort(arr[mid:])\n",
    "    temp=[]\n",
    "    i,j=0,0\n",
    "    while i<len(left) and j<len(right):\n",
    "        if left[i]<=right[j]:\n",
    "            temp.append(left[i])\n",
    "            i+=1\n",
    "        else:\n",
    "            temp.append(right[j])\n",
    "            j+=1\n",
    "    temp+=left[i:]+right[j:]\n",
    "    return temp\n",
    "nums=MergeSort(arr)\n",
    "print(nums)"
   ]
  },
  {
   "cell_type": "markdown",
   "metadata": {},
   "source": [
    "##### 归并排序vs快速排序"
   ]
  },
  {
   "cell_type": "markdown",
   "metadata": {},
   "source": [
    "归并排序:先排序左右子数组，然后合并两个有序数组<br>\n",
    "快速排序:先调配出左右子数组，然后对左右子数组分别进行排序    "
   ]
  },
  {
   "cell_type": "markdown",
   "metadata": {},
   "source": [
    "### 非比较类排序"
   ]
  },
  {
   "cell_type": "markdown",
   "metadata": {},
   "source": [
    "不通过比较大小来决定元素间的相对次序<br>\n",
    "时间复杂度手元素的范围以及分布等多种因素影响，不单纯取决于元素数量N"
   ]
  },
  {
   "cell_type": "markdown",
   "metadata": {},
   "source": [
    "#### 计数排序"
   ]
  },
  {
   "cell_type": "markdown",
   "metadata": {},
   "source": [
    "计数排序要求输入的数据必须是有确定范围的整数。将输入的数据作为key存储在额外的数组中，然后依次把计数大于1的填充回原数组"
   ]
  },
  {
   "cell_type": "markdown",
   "metadata": {},
   "source": [
    "#### 桶排序"
   ]
  },
  {
   "cell_type": "markdown",
   "metadata": {},
   "source": [
    "桶排序假设输入数据服从均匀分布，将数据分到有限数量的桶里，每个桶再分别排序（有可能使用别的排序算法，或是以递归方式继续使用桶排序)"
   ]
  },
  {
   "cell_type": "markdown",
   "metadata": {},
   "source": [
    "#### 基数排序"
   ]
  },
  {
   "cell_type": "markdown",
   "metadata": {},
   "source": [
    "基数排序把数据切割成一位位数字（0-9)，从低位到高位对每一位分别进行计数排序"
   ]
  },
  {
   "cell_type": "markdown",
   "metadata": {},
   "source": [
    "## 排序的稳定性"
   ]
  },
  {
   "cell_type": "markdown",
   "metadata": {},
   "source": [
    "插入、冒泡、归并、计数、基数和桶排序是稳定的<br>\n",
    "选择、希尔、快速、堆排序是不稳定的"
   ]
  },
  {
   "cell_type": "markdown",
   "metadata": {},
   "source": [
    "# 贪心算法"
   ]
  },
  {
   "cell_type": "markdown",
   "metadata": {},
   "source": [
    "贪心算法（Greedy Algorithm)是一种<br>\n",
    "(1)在每一步选择中都采取在当前状态下的最优决策（局部最优)<br>\n",
    "(2)并希望由此导致的最终结果也是全局最优的算法<br>"
   ]
  },
  {
   "cell_type": "markdown",
   "metadata": {},
   "source": [
    "感悟：和前面学的单调栈、对撞指针类似，贪心也是对状态搜寻过程中的一种优化的剪枝思想，在搜寻过程中将不是最优的（没有可能成为最优解的状态）一一剪枝，从而高效的求得最优答案，只不过贪心把它做到了极致，每一步都追求最优，比较适用于那些子问题的每一步也都是最优的情形"
   ]
  },
  {
   "cell_type": "markdown",
   "metadata": {},
   "source": [
    "## 贪心算法的证明"
   ]
  },
  {
   "cell_type": "markdown",
   "metadata": {},
   "source": [
    "1、决策包容性——要能向下包含对未来的可能性,也就是这个局部最优策略提供的可能性包含其他所有策略提供的可能性<br>\n",
    "2、决策范围扩展——有时候不容易直接证明局部最优决策的正确性，可以尝试往后多扩展一步，再观察决策包容性<br>\n",
    "3、邻项交换——经常用于以某种顺序“排序”为贪心策略的证明，证明在任意局面下，任何局部逆序改变都会造成整体结果变差"
   ]
  }
 ],
 "metadata": {
  "kernelspec": {
   "display_name": "Python 3",
   "language": "python",
   "name": "python3"
  },
  "language_info": {
   "codemirror_mode": {
    "name": "ipython",
    "version": 3
   },
   "file_extension": ".py",
   "mimetype": "text/x-python",
   "name": "python",
   "nbconvert_exporter": "python",
   "pygments_lexer": "ipython3",
   "version": "3.7.4"
  },
  "toc": {
   "base_numbering": 1,
   "nav_menu": {},
   "number_sections": true,
   "sideBar": true,
   "skip_h1_title": false,
   "title_cell": "Table of Contents",
   "title_sidebar": "Contents",
   "toc_cell": false,
   "toc_position": {},
   "toc_section_display": true,
   "toc_window_display": false
  }
 },
 "nbformat": 4,
 "nbformat_minor": 2
}
