{
 "cells": [
  {
   "cell_type": "markdown",
   "source": [
    "# 动态规划总论"
   ],
   "metadata": {}
  },
  {
   "cell_type": "markdown",
   "source": [
    "动态规划（DP,dynamic programming)是一种对问题的状态空间进行分阶段、有顺序、不重复、决策性遍历的算法"
   ],
   "metadata": {}
  },
  {
   "cell_type": "markdown",
   "source": [
    "## 动态规划的关键与前提<br>\r\n",
    "重叠子问题：与递归、分治等一样，要具有同类子问题，用若干维状态表示<br>\r\n",
    "最优子结构：状态对应着一个最优化目标，并且最优化目标之间具有推导关系<br>\r\n",
    "无后效性：问题的状态空间是一张有向无环图（可按一定的顺序遍历求解）\n"
   ],
   "metadata": {}
  },
  {
   "cell_type": "markdown",
   "source": [
    "## 动态规划的本质"
   ],
   "metadata": {}
  },
  {
   "cell_type": "markdown",
   "source": [
    "动态规划的本质是对状态空间的有序不重复遍历，相当于再以状态为点的图上进行拓扑排序"
   ],
   "metadata": {}
  },
  {
   "cell_type": "markdown",
   "source": [
    "动态规划一般采用递推的方式实现（时间效率更高），也可以写成递归或搜索的形式，因为每个状态只遍历一次，也被称为记忆化搜索"
   ],
   "metadata": {}
  },
  {
   "cell_type": "markdown",
   "source": [
    "无论是递推实现还是记忆化搜索（递归实现），这种定义状态+最优子结构+推导关系的解题方法其实就是动态规划算法"
   ],
   "metadata": {}
  },
  {
   "cell_type": "markdown",
   "source": [
    "## 动态规划解题步骤"
   ],
   "metadata": {}
  },
  {
   "cell_type": "markdown",
   "source": [
    "1、人力模拟/蛮力搜索（关注“轮廓变化”）<br>\r\n",
    "2、定义状态（关注“代表”以及它们之间的推导关系）<br>\r\n",
    "3、确定最优子结构(关注人力模拟时做出的决策)<br>\r\n",
    "4、写出状态转移方程<br>\r\n",
    "5、确定边界、目标，递推实现（边界包括：起点、会访问到的不合法状态）"
   ],
   "metadata": {}
  },
  {
   "cell_type": "markdown",
   "source": [
    "动态规划算法把相同的计算过程作用于各阶段的同类子问题，就好像把一个固定的公式在格式相同的若干输入数据上运行。因此，我们一般只需要定义出DP的计算过程，就可以编程实现了。这个计算的过程就是“状态转移方程”。<br>\r\n",
    "一道动态规划题目，写出状态转移方程，就已经完成了大半的工作，剩下的任务就是编程实现<br>"
   ],
   "metadata": {}
  },
  {
   "cell_type": "markdown",
   "source": [
    "## 状态与决策的平衡选择"
   ],
   "metadata": {}
  },
  {
   "cell_type": "markdown",
   "source": [
    "状态、阶段、决策是构成动态规划算法的三要素<br>\r\n",
    "状态包含的信息越多，决策越简单；状态越简单，决策越复杂<br>\r\n",
    "一般我们解题时，尽量把人工模拟时关注的信息都放在状态里，除非最后状态规模太大，再考虑简化"
   ],
   "metadata": {}
  },
  {
   "cell_type": "markdown",
   "source": [
    "## 动态规划的转移转移方程的2种写法"
   ],
   "metadata": {}
  },
  {
   "cell_type": "markdown",
   "source": [
    "DP的本质是对状态空间的遍历，故而可以从“谁能走到我”和“我能走到谁”2个角度考虑"
   ],
   "metadata": {}
  },
  {
   "cell_type": "markdown",
   "source": [
    "## 动态规划的转移优化思想"
   ],
   "metadata": {}
  },
  {
   "cell_type": "markdown",
   "source": [
    "这里还是用来第一周的一个思想：当问题涉及多个变量时，可以尝试固定一个变量，观察另一个或多个变量的情况寻找解决方法<br>\r\n",
    "在动态规划中也经常遇到，2层循环，i是状态变量，j是决策变量：<br>\r\n",
    "1、分离状态变量和决策变量。当循环多于两重时，关注最里边的两重循环，把外层看作定值。<br>\r\n",
    "2、对于一个状态变量，决策变量的取值范围称为“决策候选集合”，观察这个集合随着状态变量的变化情况<br>\r\n",
    "一旦发现冗余，或者有更高效维护“候选集合”的数据结构，就可以省去一层循环扫描！"
   ],
   "metadata": {}
  },
  {
   "cell_type": "markdown",
   "source": [
    "## 空间的优化"
   ],
   "metadata": {}
  },
  {
   "cell_type": "markdown",
   "source": [
    "注意观察状态转移方程，f[i,?,?,?]总是从f[i-1,?,?,?]转移过来，与更早的i 一2,i -3,....没有关系<br>\r\n",
    "如果把每个f[i]看作一行，那么转移只在相邻2行之间发生，这种情况可使用滚动数组优化<br>\r\n",
    "可以在每个f的第一维加个&1(and 1,即 mod 2)<br>\r\n",
    "注意事项：<br>\r\n",
    "1、初始化复用空间<br>\r\n",
    "2、注意观察循环不变量,可能需要逆序"
   ],
   "metadata": {}
  },
  {
   "cell_type": "markdown",
   "source": [
    "## 动规与贪心的关系"
   ],
   "metadata": {}
  },
  {
   "cell_type": "markdown",
   "source": [
    "动态规划和贪心本质上都是对图的遍历，只不过贪心解决的问题必须是可以通过某种剪枝手段实现，因此贪心可以做的，动态规划一定可以做，而因为没有剪枝，所以时间复杂度差些，在拿到题目之后的一条自然的解题路线为：蛮力搜索---（同类子问题）--->分治---(最优子结构)--->动态规划--->贪心。"
   ],
   "metadata": {}
  },
  {
   "cell_type": "markdown",
   "source": [
    "# 线性DP"
   ],
   "metadata": {}
  },
  {
   "cell_type": "markdown",
   "source": [
    "具有线性“阶段”划分的动态规划算法统称为线性DP<br>\r\n",
    "一个动态规划算法的“状态”包含多个维度，但在每个维度都具有“线性”变化的“阶段”，也是线性DP"
   ],
   "metadata": {}
  },
  {
   "cell_type": "markdown",
   "source": [
    "### 最长上升子序列"
   ],
   "metadata": {}
  },
  {
   "cell_type": "code",
   "execution_count": null,
   "source": [
    "#计算长度并打印路径\r\n",
    "n=int(input())\r\n",
    "b=input()\r\n",
    "lst=[int(i) for i in b.split()]\r\n",
    "dp=[1]*n\r\n",
    "fr=[-1]*n\r\n",
    "for i in range(1,n):\r\n",
    "    for j in range(i):\r\n",
    "        if lst[i]>lst[j] and dp[i]<dp[j]+1:\r\n",
    "            dp[i]=dp[j]+1\r\n",
    "            fr[i]=j\r\n",
    "ans=max(dp)\r\n",
    "print(ans)\r\n",
    "k=dp.index(ans)\r\n",
    "res=[]\r\n",
    "while k!=-1:\r\n",
    "    res.append(lst[k])\r\n",
    "    k=fr[k]\r\n",
    "print(res[::-1])"
   ],
   "outputs": [],
   "metadata": {}
  },
  {
   "cell_type": "markdown",
   "source": [
    "# 背包"
   ],
   "metadata": {}
  },
  {
   "cell_type": "markdown",
   "source": [
    "## 01背包——每件物品最多只用一次"
   ],
   "metadata": {}
  },
  {
   "cell_type": "code",
   "execution_count": null,
   "source": [
    "a=input()\r\n",
    "n=int(a.split()[0])\r\n",
    "v=int(a.split()[1])\r\n",
    "value=[0]*n\r\n",
    "col=[0]*n\r\n",
    "for i in range(n):\r\n",
    "    b=input()\r\n",
    "    col[i]=int(b.split()[0])\r\n",
    "    value[i]=int(b.split()[1])\r\n",
    "dp=[[0]*(v+1) for _ in range(n+1)]\r\n",
    "for i in range(1,n+1):\r\n",
    "    for j in range(v+1):\r\n",
    "        dp[i][j]=dp[i-1][j]\r\n",
    "        if j>=col[i-1]:\r\n",
    "            dp[i][j]=max(dp[i][j],dp[i-1][j-col[i-1]]+value[i-1])\r\n",
    "print(dp[n][v])"
   ],
   "outputs": [],
   "metadata": {}
  },
  {
   "cell_type": "code",
   "execution_count": 7,
   "source": [
    "# 状态压缩,空间优化"
   ],
   "outputs": [],
   "metadata": {}
  },
  {
   "cell_type": "code",
   "execution_count": null,
   "source": [
    "a=input()\r\n",
    "n=int(a.split()[0])\r\n",
    "v=int(a.split()[1])\r\n",
    "value=[0]*n\r\n",
    "col=[0]*n\r\n",
    "for i in range(n):\r\n",
    "    b=input()\r\n",
    "    col[i]=int(b.split()[0])\r\n",
    "    value[i]=int(b.split()[1])\r\n",
    "dp=[0]*(v+1)\r\n",
    "for i in range(1,n+1):\r\n",
    "    for j in range(v,col[i-1]-1,-1):\r\n",
    "        dp[j]=max(dp[j],dp[j-col[i-1]]+value[i-1])\r\n",
    "print(dp[v])"
   ],
   "outputs": [],
   "metadata": {}
  },
  {
   "cell_type": "markdown",
   "source": [
    "## 完全背包——每个物品无限个"
   ],
   "metadata": {}
  },
  {
   "cell_type": "code",
   "execution_count": null,
   "source": [
    "a=input()\r\n",
    "n=int(a.split()[0])\r\n",
    "v=int(a.split()[1])\r\n",
    "col=[0]*n\r\n",
    "val=[0]*n\r\n",
    "for i in range(n):\r\n",
    "    b=input()\r\n",
    "    col[i]=int(b.split()[0])\r\n",
    "    val[i]=int(b.split()[1])\r\n",
    "dp=[[0]*(v+1) for _ in range(n+1)]\r\n",
    "for i in range(1,n+1):\r\n",
    "    for j in range(v+1):\r\n",
    "        dp[i][j]=dp[i-1][j]\r\n",
    "        if j>=col[i-1]:\r\n",
    "            dp[i][j]=max(dp[i][j],dp[i][j-col[i-1]]+val[i-1])\r\n",
    "print(dp[n][v])"
   ],
   "outputs": [],
   "metadata": {}
  },
  {
   "cell_type": "code",
   "execution_count": null,
   "source": [
    "#空间优化\r\n",
    "a=input()\r\n",
    "n=int(a.split()[0])\r\n",
    "v=int(a.split()[1])\r\n",
    "col=[0]*n\r\n",
    "val=[0]*n\r\n",
    "for i in range(n):\r\n",
    "    b=input()\r\n",
    "    col[i]=int(b.split()[0])\r\n",
    "    val[i]=int(b.split()[1])\r\n",
    "dp=[0]*(v+1)\r\n",
    "for i in range(1,n+1):\r\n",
    "    for j in range(col[i-1],v+1):\r\n",
    "        dp[j]=max(dp[j],dp[j-col[i-1]]+val[i-1])\r\n",
    "print(dp[v])"
   ],
   "outputs": [],
   "metadata": {}
  },
  {
   "cell_type": "markdown",
   "source": [
    "## 多重背包——每个物品有限个"
   ],
   "metadata": {}
  },
  {
   "cell_type": "code",
   "execution_count": null,
   "source": [
    "a=input()\r\n",
    "n=int(a.split()[0])\r\n",
    "v=int(a.split()[1])\r\n",
    "col=[0]*n\r\n",
    "val=[0]*n\r\n",
    "cnt=[0]*n\r\n",
    "for i in range(n):\r\n",
    "    b=input()\r\n",
    "    col[i],val[i],cnt[i]=[int(s) for s in b.split()]\r\n",
    "dp=[[0]*(v+1) for _ in range(n+1)]\r\n",
    "for i in range(1,n+1):\r\n",
    "    for j in range(v+1):\r\n",
    "        for k in range(min(cnt[i-1],j//col[i-1])+1):\r\n",
    "            dp[i][j]=max(dp[i][j],dp[i-1][j-col[i-1]*k]+val[i-1]*k)\r\n",
    "print(dp[n][v])"
   ],
   "outputs": [],
   "metadata": {}
  },
  {
   "cell_type": "markdown",
   "source": [
    "## 分组背包——每组至多选一个"
   ],
   "metadata": {}
  },
  {
   "cell_type": "code",
   "execution_count": null,
   "source": [
    "a=input()\r\n",
    "n=int(a.split()[0])\r\n",
    "v=int(a.split()[1])\r\n",
    "s=[]\r\n",
    "col=[]\r\n",
    "val=[]\r\n",
    "for i in range(n):\r\n",
    "    s.append(int(input()))\r\n",
    "    col.append([])\r\n",
    "    val.append([])\r\n",
    "    for j in range(s[-1]):\r\n",
    "        b=input()\r\n",
    "        col[-1].append(int(b.split()[0]))\r\n",
    "        val[-1].append(int(b.split()[1]))\r\n",
    "dp=[0]*(v+1)\r\n",
    "for i in range(n):\r\n",
    "    for j in range(v,-1,-1):\r\n",
    "        for k in range(s[i]):\r\n",
    "            if j>=col[i][k]:\r\n",
    "                dp[j]=max(dp[j],dp[j-col[i][k]]+val[i][k])\r\n",
    "print(dp[v])"
   ],
   "outputs": [],
   "metadata": {}
  },
  {
   "cell_type": "markdown",
   "source": [
    "# 环形问题"
   ],
   "metadata": {}
  },
  {
   "cell_type": "markdown",
   "source": [
    "策略一：执行2次DP,第一次在任意位置把换断开成链，按照线性DP思路求解，第二次通过适当的条件和赋值，保证计算出来的状态等价于把断开位置强制连接。<br>"
   ],
   "metadata": {}
  },
  {
   "cell_type": "markdown",
   "source": [
    "\r\n",
    "策略二：在任意位置把环断开成链，然后复制已被接在末尾"
   ],
   "metadata": {}
  },
  {
   "cell_type": "markdown",
   "source": [
    "## 环形子数组的最大和"
   ],
   "metadata": {}
  },
  {
   "cell_type": "code",
   "execution_count": null,
   "source": [
    "class Solution:\r\n",
    "    def maxSubarraySumCircular(self, nums: List[int]) -> int:\r\n",
    "        n=len(nums)\r\n",
    "        arr=[0]*(n+1)\r\n",
    "        for i in range(n):\r\n",
    "            arr[i+1]=arr[i]+nums[i]\r\n",
    "        ans=max(arr[1:])\r\n",
    "        tempmax=arr[0]\r\n",
    "        tempmin=arr[1]\r\n",
    "        for i in range(1,n+1):\r\n",
    "            tempmax=min(tempmax,arr[i-1])\r\n",
    "            if i>1:\r\n",
    "                tempmin=max(tempmin,arr[i-1])\r\n",
    "            ans=max(ans,arr[i]-tempmax,arr[-1]-(arr[i]-tempmin))\r\n",
    "        return ans"
   ],
   "outputs": [],
   "metadata": {}
  },
  {
   "cell_type": "markdown",
   "source": [
    "# 经典例题"
   ],
   "metadata": {}
  },
  {
   "cell_type": "markdown",
   "source": [
    "## 买卖股票"
   ],
   "metadata": {}
  },
  {
   "cell_type": "markdown",
   "source": [
    "### 1、只能买卖一次"
   ],
   "metadata": {}
  },
  {
   "cell_type": "code",
   "execution_count": null,
   "source": [
    "n=int(input())\r\n",
    "a=input()\r\n",
    "prices=[int(i) for i in a.split()]\r\n",
    "dp=[[[-float(\"inf\")]*2 for _ in range(2)] for __ in range((n+1))]\r\n",
    "dp[0][0][0]=0\r\n",
    "for i in range(1,n+1):\r\n",
    "    for j in range(2):\r\n",
    "        for k in range(2):\r\n",
    "            dp[i][j][k]=dp[i-1][j][k]\r\n",
    "            if j==0:\r\n",
    "                dp[i][0][k]=max(dp[i][0][k],dp[i-1][1][k]+prices[i-1])\r\n",
    "            if j==1 and k>0:\r\n",
    "                dp[i][1][k]=max(dp[i][1][k],dp[i][0][k-1]-prices[i-1])\r\n",
    "print(max(dp[n][0]))"
   ],
   "outputs": [],
   "metadata": {}
  },
  {
   "cell_type": "markdown",
   "source": [
    "### 2、多次买卖一支股票"
   ],
   "metadata": {}
  },
  {
   "cell_type": "code",
   "execution_count": null,
   "source": [
    "#滚动数组\r\n",
    "n=int(input())\r\n",
    "a=input()\r\n",
    "prices=[int(i) for i in a.split()]\r\n",
    "dp=[[-float(\"inf\")]*2 for __ in range(2)]\r\n",
    "dp[0][0]=0\r\n",
    "for i in range(1,n+1):\r\n",
    "    for j in range(2):\r\n",
    "        cur=i&1\r\n",
    "        dp[cur][j]=dp[cur-1][j]\r\n",
    "        if j==1:\r\n",
    "            dp[cur][1]=max(dp[cur][1],dp[cur][0]-prices[i-1])\r\n",
    "        if j==0:\r\n",
    "            dp[cur][0]=max(dp[cur][0],dp[cur-1][1]+prices[i-1])       \r\n",
    "print(dp[cur][0])"
   ],
   "outputs": [],
   "metadata": {}
  },
  {
   "cell_type": "markdown",
   "source": [
    "### 3、最多可以完成两笔交易"
   ],
   "metadata": {}
  },
  {
   "cell_type": "code",
   "execution_count": null,
   "source": [
    "n=int(input())\r\n",
    "a=input()\r\n",
    "prices=[int(i) for i in a.split()]\r\n",
    "c=2\r\n",
    "dp=[[[-float(\"inf\")]*(c+1) for __ in range(2)] for _ in range(2)]\r\n",
    "dp[0][0][0]=0\r\n",
    "for i in range(1,n+1):\r\n",
    "    for j in range(2):\r\n",
    "        for k in range(c+1):\r\n",
    "            cur=i&1\r\n",
    "            dp[cur][j]=dp[cur-1][j]\r\n",
    "            if j==1 and k>0:\r\n",
    "                dp[cur][1][k]=max(dp[cur][1][k],dp[cur][0][k-1]-prices[i-1])\r\n",
    "            if j==0:\r\n",
    "                dp[cur][0][k]=max(dp[cur][0][k],dp[cur-1][1][k]+prices[i-1])       \r\n",
    "print(max(dp[cur][0]))"
   ],
   "outputs": [],
   "metadata": {}
  },
  {
   "cell_type": "markdown",
   "source": [
    "### 4、最多可以完成 k 笔交易"
   ],
   "metadata": {}
  },
  {
   "cell_type": "code",
   "execution_count": null,
   "source": [
    "o=input()\r\n",
    "n=int(o.split()[0])\r\n",
    "c=int(o.split()[1])\r\n",
    "a=input()\r\n",
    "prices=[int(i) for i in a.split()]\r\n",
    "dp=[[[-float(\"inf\")]*(c+1) for __ in range(2)] for _ in range(2)]\r\n",
    "dp[0][0][0]=0\r\n",
    "for i in range(1,n+1):\r\n",
    "    for j in range(2):\r\n",
    "        for k in range(c+1):\r\n",
    "            cur=i&1\r\n",
    "            dp[cur][j]=dp[cur-1][j]\r\n",
    "            if j==1 and k>0:\r\n",
    "                dp[cur][1][k]=max(dp[cur][1][k],dp[cur][0][k-1]-prices[i-1])\r\n",
    "            if j==0:\r\n",
    "                dp[cur][0][k]=max(dp[cur][0][k],dp[cur-1][1][k]+prices[i-1])       \r\n",
    "print(max(dp[cur][0]))"
   ],
   "outputs": [],
   "metadata": {}
  },
  {
   "cell_type": "markdown",
   "source": [
    "### 5、交易股票含手续费用"
   ],
   "metadata": {}
  },
  {
   "cell_type": "code",
   "execution_count": null,
   "source": [
    "o=input()\r\n",
    "n=int(o.split()[0])\r\n",
    "fee=int(o.split()[1])\r\n",
    "a=input()\r\n",
    "prices=[int(i) for i in a.split()]\r\n",
    "dp=[[-float(\"inf\")]*2 for _ in range(2)]\r\n",
    "dp[0][0]=0\r\n",
    "for i in range(1,n+1):\r\n",
    "    for j in range(2):\r\n",
    "        cur=i&1\r\n",
    "        dp[cur][j]=dp[cur-1][j]\r\n",
    "        if j==1:\r\n",
    "            dp[cur][1]=max(dp[cur][1],dp[cur][0]-prices[i-1]-fee)\r\n",
    "        if j==0:\r\n",
    "            dp[cur][0]=max(dp[cur][0],dp[cur-1][1]+prices[i-1])       \r\n",
    "print(dp[cur][0])"
   ],
   "outputs": [],
   "metadata": {}
  },
  {
   "cell_type": "markdown",
   "source": [
    "### 6、交易股票含冷冻期"
   ],
   "metadata": {}
  },
  {
   "cell_type": "code",
   "execution_count": null,
   "source": [
    "n=int(input())\r\n",
    "a=input()\r\n",
    "prices=[int(i) for i in a.split()]\r\n",
    "l=1\r\n",
    "def maxProfit(prices,l,n):\r\n",
    "    dp=[[[-float(\"inf\")]*(l+1) for t in range(2)] for i in range(n+1)]\r\n",
    "    dp[0][0][0]=0\r\n",
    "    prices=[0]+prices\r\n",
    "    fee=0\r\n",
    "    for i in range(1,n+1):\r\n",
    "        for j in range(2):\r\n",
    "            for t in range(l+1):\r\n",
    "                if j==0 and t==0:\r\n",
    "                    dp[i][1][0]=max(dp[i][1][0],dp[i-1][j][t]-prices[i]-fee)\r\n",
    "                if j==1 and t==0:\r\n",
    "                    dp[i][0][1]=max(dp[i][0][1],dp[i-1][j][t]+prices[i])\r\n",
    "                dp[i][j][0]=max(dp[i-1][j]+[dp[i][j][0]])\r\n",
    "    ans=0\r\n",
    "    for t in range(l+1):\r\n",
    "        ans=max(ans,dp[n][0][t])\r\n",
    "    return ans     \r\n",
    "print(maxProfit(prices,l,n))"
   ],
   "outputs": [],
   "metadata": {}
  },
  {
   "cell_type": "markdown",
   "source": [
    "# 方法小结"
   ],
   "metadata": {}
  },
  {
   "cell_type": "markdown",
   "source": [
    "1、无论多难的题目，按照提取关键信息、人工模拟、定义状态的步骤来解题<br>\r\n",
    "2、决策比较复杂，条件比较多，可使用列表法<br>\r\n",
    "3、可使用滚动数组优化空间，有时候在优化空间的同时，发现代码可优化，进而优化时间复杂度<br>\r\n",
    "4、“滚动型”环形DP可使用2次DP,或者复制一次，修改条件再DP<br>\r\n",
    "5、动态规划计数原则——不重不漏（最优化问题只要不漏就可以）<br>\r\n",
    "6、一个状态的各个决策之间满足“加法原理”，而每个决策划分的几个子状态之间满足“乘法原理”。<br>\r\n",
    "7、在设计状态转移方程的决策方式与划分方法时，一个状态的所有决策之间必须具有互斥性，才能保证不会出现重复问题。"
   ],
   "metadata": {}
  }
 ],
 "metadata": {
  "orig_nbformat": 4,
  "language_info": {
   "name": "python",
   "version": "3.6.7",
   "mimetype": "text/x-python",
   "codemirror_mode": {
    "name": "ipython",
    "version": 3
   },
   "pygments_lexer": "ipython3",
   "nbconvert_exporter": "python",
   "file_extension": ".py"
  },
  "kernelspec": {
   "name": "python3",
   "display_name": "Python 3.6.7 64-bit ('base': conda)"
  },
  "interpreter": {
   "hash": "b3ba2566441a7c06988d0923437866b63cedc61552a5af99d1f4fb67d367b25f"
  }
 },
 "nbformat": 4,
 "nbformat_minor": 2
}
