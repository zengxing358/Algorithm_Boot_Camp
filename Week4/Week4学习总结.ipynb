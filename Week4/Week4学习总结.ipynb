{
 "cells": [
  {
   "cell_type": "markdown",
   "metadata": {},
   "source": [
    "# 二叉堆"
   ]
  },
  {
   "cell_type": "markdown",
   "metadata": {},
   "source": [
    "## 常见操作"
   ]
  },
  {
   "cell_type": "markdown",
   "metadata": {},
   "source": [
    "1、建堆（build):O(N)<br>\n",
    "2、查询最值（get max/min):O(1)<br>\n",
    "3、插入（insert):O(log N)<br>\n",
    "4、取出最值（delete max/min):O(log N)<br>"
   ]
  },
  {
   "cell_type": "markdown",
   "metadata": {},
   "source": [
    "*斐波那契堆、配对堆等可以做到插入O(1),左偏树、斜堆等可以支持合并*<br>\n",
    "*--以后有机会可以了解一下*"
   ]
  },
  {
   "cell_type": "markdown",
   "metadata": {},
   "source": [
    "# 优先队列"
   ]
  },
  {
   "cell_type": "markdown",
   "metadata": {},
   "source": [
    "二叉堆是优先队列（Priority Queue)的一种简单、常见的实现，但不是最优实现<br>"
   ]
  },
  {
   "cell_type": "markdown",
   "metadata": {},
   "source": [
    "理论上二叉堆可以支持O(log N)删除任意元素：<br>\n",
    "1、定位该元素在堆中的节点p(可以通过数值与索引之间建立映射得到)<br>\n",
    "2、与堆尾交换，删除堆尾<br>\n",
    "3、从p向上、向下各进行一次调整"
   ]
  },
  {
   "cell_type": "markdown",
   "metadata": {},
   "source": [
    "*优先队列并没有提供这个方法*<br>\n",
    "*在各语言内置库中，需要删除任意元素时，一般使用有序集合等基于平衡二叉树的实现*"
   ]
  },
  {
   "cell_type": "markdown",
   "metadata": {},
   "source": [
    "# 二叉搜索树"
   ]
  },
  {
   "cell_type": "markdown",
   "metadata": {},
   "source": [
    "查询/插入/求前驱/前后继/删除操作的时间复杂度：<br>\n",
    "随机数据期望O(log N)<br>\n",
    "在非随机数据上，BST容易退化为O(N),一般都要结合旋转操作来进行平衡<br>"
   ]
  },
  {
   "cell_type": "markdown",
   "metadata": {},
   "source": [
    "# 二分查找"
   ]
  },
  {
   "cell_type": "markdown",
   "metadata": {},
   "source": [
    "二分查找(binary search)算法是分治算法的一种，也可以看成是一棵树，这些是数据结构与算法之间的联系；要注意二分区间、判断条件、解这3个要素。"
   ]
  },
  {
   "cell_type": "markdown",
   "metadata": {},
   "source": [
    "## 二分查找的前提 "
   ]
  },
  {
   "cell_type": "markdown",
   "metadata": {},
   "source": [
    "1、目标函数具有单调性（单调递增或递减；注意是目标函数，而非数组本身，很多时候问题的解的关键在于寻找到合适的目标函数，很多看似很难解的问题也就迎刃而解了,比如 1231. 分享巧克力）<br>\n",
    "2、存在上下界（bounded)<br>\n",
    "3、能够通过索引访问（index accessible)<br>"
   ]
  },
  {
   "cell_type": "markdown",
   "metadata": {},
   "source": [
    "## 二分查找的解决方案"
   ]
  },
  {
   "cell_type": "markdown",
   "metadata": {},
   "source": [
    "*OS：以前真的是每次都有调试半天，听老师讲完瞬间谋策顿开，以前就是把3中方法搞混了，每次都是一个个试，然后也不知怎么会超时，怎没会答案不准*<br>"
   ]
  },
  {
   "cell_type": "markdown",
   "metadata": {},
   "source": [
    "### (1.1)+(1.2):最严谨的划分，一侧包含，一侧不包含，终止于left==right"
   ]
  },
  {
   "cell_type": "markdown",
   "metadata": {},
   "source": [
    "**（1.1）查找lower_bound(第一个>=target的数）,不存在返回n**"
   ]
  },
  {
   "cell_type": "markdown",
   "metadata": {},
   "source": [
    "```python\n",
    "left=0\n",
    "right=n\n",
    "while left<right:\n",
    "    mid=(left+right)>>1\n",
    "    if arr[mid]>=target:\n",
    "        right=mid\n",
    "    else:\n",
    "        left=mid+1\n",
    "return right\n",
    "```"
   ]
  },
  {
   "cell_type": "markdown",
   "metadata": {},
   "source": [
    "**(1.2)查找最后一个<=target的数，不存在返回-1**"
   ]
  },
  {
   "cell_type": "markdown",
   "metadata": {},
   "source": [
    "```python\n",
    "left=-1\n",
    "right=n-1\n",
    "while left<right:\n",
    "    mid=(left+right+1)>>1\n",
    "    if arr[mid]<=target:\n",
    "        left=mid\n",
    "    else:\n",
    "        right=mid-1\n",
    "return right\n",
    "```"
   ]
  },
  {
   "cell_type": "markdown",
   "metadata": {},
   "source": [
    "### 双侧都不包含，用ans维护答案，终止于left>right"
   ]
  },
  {
   "cell_type": "markdown",
   "metadata": {},
   "source": [
    "```python\n",
    "left=0\n",
    "right=n-1\n",
    "ans=-1\n",
    "while left<=right:\n",
    "    mid=(left+right)>>1\n",
    "    if arr[mid]<=target:\n",
    "        ans=max(ans,mid)\n",
    "        left=mid+1\n",
    "    else:\n",
    "        right=mid-1\n",
    "return ans\n",
    "```"
   ]
  },
  {
   "cell_type": "markdown",
   "metadata": {},
   "source": [
    "### 双侧都包含，终止于left+1==right,最后在检查答案"
   ]
  },
  {
   "cell_type": "markdown",
   "metadata": {},
   "source": [
    "```python\n",
    "left=0\n",
    "right=n-1\n",
    "while left+1<right:\n",
    "    mid=(left+right)>>1\n",
    "    if arr[mid]<=target:\n",
    "        left=mid\n",
    "    else:\n",
    "        right=mid\n",
    "```"
   ]
  },
  {
   "cell_type": "markdown",
   "metadata": {},
   "source": [
    "答案要么是left,要么是right，要么不存在<br>\n",
    "还需要检查left和right，返回一个合适的结果"
   ]
  },
  {
   "cell_type": "markdown",
   "metadata": {},
   "source": [
    "# 习题"
   ]
  },
  {
   "cell_type": "markdown",
   "metadata": {},
   "source": [
    "## 滑动窗口最大值\n",
    "https://leetcode-cn.com/problems/sliding-window-maximum/"
   ]
  },
  {
   "cell_type": "markdown",
   "metadata": {},
   "source": [
    "*这题的平衡树解法暂时超时*<br>\n",
    "**堆的解法优化：懒惰删除法**<br>\n",
    "*懒惰时各种数据结构中常用的优化技巧，比如线段树的懒更新*<br>\n",
    "**“懒惰”的含义——只要要删除的元素还哦不是最大值，在队内多待一会儿也无妨，未来等它会影响最大值正确性的时候再说吧**<br>\n",
    "*218. 天际线问题  也可以采用这个技巧*<br>"
   ]
  },
  {
   "cell_type": "markdown",
   "metadata": {},
   "source": [
    "## 34. 在排序数组中查找元素的第一个和最后一个位置"
   ]
  },
  {
   "cell_type": "markdown",
   "metadata": {},
   "source": [
    "https://leetcode-cn.com/problems/find-first-and-last-position-of-element-in-sorted-array/"
   ]
  },
  {
   "cell_type": "markdown",
   "metadata": {},
   "source": [
    "1、使用(1.1)找到左端点<br>\n",
    "2、使用(1.2)找到右端点<br>\n",
    "3、判断做右端点的合法性，返回结果（left<=right有解，否则无解）<br>"
   ]
  }
 ],
 "metadata": {
  "kernelspec": {
   "display_name": "Python 3",
   "language": "python",
   "name": "python3"
  },
  "language_info": {
   "codemirror_mode": {
    "name": "ipython",
    "version": 3
   },
   "file_extension": ".py",
   "mimetype": "text/x-python",
   "name": "python",
   "nbconvert_exporter": "python",
   "pygments_lexer": "ipython3",
   "version": "3.7.4"
  },
  "toc": {
   "base_numbering": 1,
   "nav_menu": {},
   "number_sections": true,
   "sideBar": true,
   "skip_h1_title": false,
   "title_cell": "Table of Contents",
   "title_sidebar": "Contents",
   "toc_cell": false,
   "toc_position": {},
   "toc_section_display": true,
   "toc_window_display": false
  }
 },
 "nbformat": 4,
 "nbformat_minor": 2
}
