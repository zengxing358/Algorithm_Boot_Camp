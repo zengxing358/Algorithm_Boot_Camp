{
 "cells": [
  {
   "cell_type": "markdown",
   "source": [
    "# 动态规划"
   ],
   "metadata": {}
  },
  {
   "cell_type": "markdown",
   "source": [
    "动态规划对状态空间的遍历构成一张有向无环图，遍历顺序就是该有向无环图的一个拓扑排序。<br>\r\n",
    "有向无环图中的节点对应问题中的“状态”，图中的边则对应状态之间的“转移”，转移的选取就是动态规划中的“决策”。阶段对应对该图进行广搜的每一层。"
   ],
   "metadata": {}
  },
  {
   "cell_type": "markdown",
   "source": [
    "1、重叠子问题：动态规划算法把原问题视作若干重叠子问题的逐层递进，每个子问题的求解过程都构成一个“阶段”。在完成一个阶段计算后，才会执行下一阶段的计算。<br>\r\n",
    "2、无后效性：为了保证计算能够按顺序、不重复地进行，动态规划要求已经求解的子问题不受后续阶段的影响。这个条件就是“无后效性”。<br>\r\n",
    "3、最优子结构：很多时候，动态规划用于求解最优化问题。此时，下一阶段的最优解应该能由前面各阶段子问题的最优解导出。也就是说，动态规划在阶段计算完成时，只会在每个状态上保留于最终解集相关的部分代表信息，这些代表信息应该具有可重复的求解过程，并能够导出后续阶段的代表信息"
   ],
   "metadata": {}
  },
  {
   "cell_type": "markdown",
   "source": [
    "## 线性DP"
   ],
   "metadata": {}
  },
  {
   "cell_type": "markdown",
   "source": [
    "线性DP（作用在线性空间上的递推）:DP的阶段沿着各个维度线性增长，从一个或多个“边界点”开始有方向地向整个状态空间转移、扩展，最后每个状态上都保留了以自身为“目标”的子问题最优解。"
   ],
   "metadata": {}
  },
  {
   "cell_type": "markdown",
   "source": [
    "### 最长公共子序列 https://leetcode-cn.com/problems/longest-common-subsequence/"
   ],
   "metadata": {}
  },
  {
   "cell_type": "code",
   "execution_count": null,
   "source": [
    "#带打印方案（不用保存每一步的状态，只需保存代号再通过解析代号还原方案，不单节省空间，更节省时间）\r\n",
    "class Solution:\r\n",
    "    def longestCommonSubsequence(self, text1: str, text2: str) -> int:\r\n",
    "        n=len(text1)\r\n",
    "        m=len(text2)\r\n",
    "        dp=[[0]*(m+1) for _ in range(n+1)]\r\n",
    "        fr=[[0]*(m+1) for _ in range(n+1)]\r\n",
    "        for i in range(n):\r\n",
    "            for j in range(m):\r\n",
    "                if text1[i]==text2[j]:\r\n",
    "                    dp[i+1][j+1]=dp[i][j]+1\r\n",
    "                else:\r\n",
    "                    if dp[i][j+1]>dp[i+1][j]:\r\n",
    "                        dp[i+1][j+1]=dp[i][j+1]\r\n",
    "                        fr[i+1][j+1]=1\r\n",
    "                    else:\r\n",
    "                        dp[i+1][j+1]=dp[i+1][j]\r\n",
    "                        fr[i+1][j+1]=2\r\n",
    "        self.res=[]\r\n",
    "        self.dfs(text1,fr,n,m)\r\n",
    "        print(\"\".join(self.res))\r\n",
    "        return dp[n][m]\r\n",
    "    def dfs(self,text,fr,i,j):\r\n",
    "        if i==0 or j==0:\r\n",
    "            return\r\n",
    "        if fr[i][j]==0:\r\n",
    "            self.dfs(text,fr,i-1,j-1)\r\n",
    "            self.res.append(text[i-1])\r\n",
    "        elif fr[i][j]==1:\r\n",
    "            self.dfs(text,fr,i-1,j)\r\n",
    "        else:\r\n",
    "            self.dfs(text,fr,i,j-1)\r\n"
   ],
   "outputs": [],
   "metadata": {}
  },
  {
   "cell_type": "markdown",
   "source": [
    "## 环形DP"
   ],
   "metadata": {}
  },
  {
   "cell_type": "markdown",
   "source": [
    "环形DP vs 线性DP:<br>\r\n",
    "“线性问题”仅比“环形问题”少了一种情况，即尾部和头部相连的情况"
   ],
   "metadata": {}
  },
  {
   "cell_type": "markdown",
   "source": [
    "打家劫舍 II "
   ],
   "metadata": {}
  },
  {
   "cell_type": "code",
   "execution_count": null,
   "source": [
    "#2次DP\r\n",
    "class Solution:\r\n",
    "    def rob(self, nums: List[int]) -> int:\r\n",
    "        n=len(nums)\r\n",
    "        if n==1: #边界条件\r\n",
    "            return nums[0]\r\n",
    "        #第一间选\r\n",
    "        dp=[[0]*2 for _ in range(n)]\r\n",
    "        dp[0][1]=nums[0]\r\n",
    "        for i in range(1,n):\r\n",
    "            dp[i][0]=max(dp[i-1])\r\n",
    "            dp[i][1]=dp[i-1][0]+nums[i]\r\n",
    "        ans=dp[n-1][0]\r\n",
    "        #第一间不选\r\n",
    "        dp=[[0]*2 for _ in range(n)]\r\n",
    "        for i in range(1,n):\r\n",
    "            dp[i][0]=max(dp[i-1])\r\n",
    "            dp[i][1]=dp[i-1][0]+nums[i]\r\n",
    "        ans=max(dp[-1]+[ans])\r\n",
    "        return ans"
   ],
   "outputs": [],
   "metadata": {}
  },
  {
   "cell_type": "markdown",
   "source": [
    "## 区间DP"
   ],
   "metadata": {}
  },
  {
   "cell_type": "markdown",
   "source": [
    "线性DP一般从初态开始，沿着阶段的扩张向某个方向推进，直至计算出目标状态。<br>\r\n",
    "区间DP也属于线性DP中的一种，它以“区间长度”作为DP的“阶段”，使用两个坐标（区间的左、右端点）描述每个维度。<br>\r\n",
    "在区间DP中，一个状态由若干个比它更小且包含于它的区间所代表的状态转移而来，故区间DP的决策往往就是划分区间的方法。区间DP的初态一般由长度为1的“元区间”构成。<br>\r\n",
    "这种向下划分、向上递推的模式与某些树形结构（线段树）类似。"
   ],
   "metadata": {}
  },
  {
   "cell_type": "markdown",
   "source": [
    "### 1068. 环形石子合并 https://www.acwing.com/problem/content/1070/"
   ],
   "metadata": {}
  },
  {
   "cell_type": "code",
   "execution_count": null,
   "source": [
    "#环形复制策略+区间DP\r\n",
    "n=int(input())\r\n",
    "a=input()\r\n",
    "lst=[int(i) for i in a.split()]\r\n",
    "lst=lst*2\r\n",
    "ansmin=float(\"inf\")\r\n",
    "ansmax=-float(\"inf\")\r\n",
    "l=2*n\r\n",
    "arr=[0]*l\r\n",
    "dpmin=[[float(\"inf\")]*(l) for _ in range(l)]\r\n",
    "dpmax=[[0]*(l) for _ in range(l)]\r\n",
    "for i in range(l):\r\n",
    "    arr[i]=arr[i-1]+lst[i]\r\n",
    "for ln in range(1,n+1):\r\n",
    "    for left in range(1,l-ln+1):\r\n",
    "        right=left+ln-1\r\n",
    "        if ln==1:\r\n",
    "            dpmin[left][right]=0\r\n",
    "            continue\r\n",
    "        for k in range(left,right):\r\n",
    "            dpmin[left][right]=min(dpmin[left][right],dpmin[left][k]+dpmin[k+1][right]+arr[right]-arr[left-1])\r\n",
    "            dpmax[left][right]=max(dpmax[left][right],dpmax[left][k]+dpmax[k+1][right]+arr[right]-arr[left-1])\r\n",
    "for i in range(1,n+1):\r\n",
    "    ansmin=min(ansmin,dpmin[i][i+n-1])\r\n",
    "    ansmax=max(ansmax,dpmax[i][i+n-1])\r\n",
    "print(ansmin)\r\n",
    "print(ansmax)"
   ],
   "outputs": [],
   "metadata": {}
  },
  {
   "cell_type": "markdown",
   "source": [
    "## 树形DP"
   ],
   "metadata": {}
  },
  {
   "cell_type": "markdown",
   "source": [
    "在树上设计动态规划算法时，一般以节点从深到浅（子树丛小到大）的顺序为DP的“阶段”。DP的状态表示中，第一维通常是节点编号（代表以该节点为根的子树）。<br>\r\n",
    "大多数时候，采用递归的方式实现树形动态规划，对于每个节点x，先递归它的每个子节点并进行DP,回溯时，从子节点向节点x进行状态转移。<br>\r\n",
    "与深搜和广搜一样，除了自顶向下递归外，也可以使用自底部向上拓扑排序来执行树形DP,另外也可使用栈来实现非递归写法（后序遍历）。这三个方法，递归相对较好写。"
   ],
   "metadata": {}
  },
  {
   "cell_type": "markdown",
   "source": [
    "### 打家劫舍 III"
   ],
   "metadata": {}
  },
  {
   "cell_type": "code",
   "execution_count": null,
   "source": [
    "#递归方式\r\n",
    "class Solution:\r\n",
    "    def rob(self, root: TreeNode) -> int:\r\n",
    "        self.dp={}\r\n",
    "        return self.__rob(root)\r\n",
    "    def __rob(self,root):\r\n",
    "        if root:\r\n",
    "            self.dp[root]=[0,root.val]\r\n",
    "            if root.left:\r\n",
    "                self.dp[root][0]+=self.__rob(root.left)\r\n",
    "                self.dp[root][1]+=self.dp[root.left][0]\r\n",
    "            if root.right:\r\n",
    "                self.dp[root][0]+=self.__rob(root.right)\r\n",
    "                self.dp[root][1]+=self.dp[root.right][0]\r\n",
    "            return max(self.dp[root])\r\n",
    "        return 0"
   ],
   "outputs": [],
   "metadata": {}
  },
  {
   "cell_type": "code",
   "execution_count": null,
   "source": [
    "#拓扑排序\r\n",
    "class Solution:\r\n",
    "    def rob(self, root: TreeNode) -> int:\r\n",
    "        dp={}\r\n",
    "        deg={}\r\n",
    "        father={}\r\n",
    "        queue=[root]\r\n",
    "        q=[]\r\n",
    "        while queue:\r\n",
    "            cur=queue.pop()\r\n",
    "            if cur.left:\r\n",
    "                deg[cur]=deg.get(cur,0)+1\r\n",
    "                queue.append(cur.left)\r\n",
    "                father[cur.left]=cur\r\n",
    "            if cur.right:\r\n",
    "                deg[cur]=deg.get(cur,0)+1\r\n",
    "                queue.append(cur.right)\r\n",
    "                father[cur.right]=cur\r\n",
    "            if cur not in deg:\r\n",
    "                q.append(cur)\r\n",
    "        while q:\r\n",
    "            temp=q.pop()\r\n",
    "            dp[temp]=[0,temp.val]\r\n",
    "            if temp.left:\r\n",
    "                dp[temp][0]+=max(dp[temp.left])\r\n",
    "                dp[temp][1]+=dp[temp.left][0]\r\n",
    "            if temp.right:\r\n",
    "                dp[temp][0]+=max(dp[temp.right])\r\n",
    "                dp[temp][1]+=dp[temp.right][0]\r\n",
    "            if temp in father:\r\n",
    "                deg[father[temp]]-=1\r\n",
    "                if deg[father[temp]]==0:\r\n",
    "                    q.append(father[temp])\r\n",
    "        return max(dp[root])"
   ],
   "outputs": [],
   "metadata": {}
  },
  {
   "cell_type": "code",
   "execution_count": null,
   "source": [
    "#使用栈实现非递归写法（后序遍历）\r\n",
    "class Solution:\r\n",
    "    def rob(self, root: TreeNode) -> int:\r\n",
    "        self.dp={}\r\n",
    "        stack=[]\r\n",
    "        cur=root\r\n",
    "        preNode=None\r\n",
    "        while cur or stack:\r\n",
    "            while cur:\r\n",
    "                stack.append(cur)\r\n",
    "                cur=cur.left\r\n",
    "            temp=stack.pop()\r\n",
    "            if not temp.right or temp.right==preNode:\r\n",
    "                self.dp[temp]=[0,temp.val]\r\n",
    "                if temp.left:\r\n",
    "                    self.dp[temp][0]+=max(self.dp[temp.left])\r\n",
    "                    self.dp[temp][1]+=self.dp[temp.left][0]\r\n",
    "                if temp.right:\r\n",
    "                    self.dp[temp][0]+=max(self.dp[temp.right])\r\n",
    "                    self.dp[temp][1]+=self.dp[temp.right][0]\r\n",
    "                preNode=temp\r\n",
    "            else:\r\n",
    "                stack.append(temp)\r\n",
    "                cur=temp.right\r\n",
    "        return max(self.dp[root])"
   ],
   "outputs": [],
   "metadata": {}
  },
  {
   "cell_type": "markdown",
   "source": [
    "# 字典树"
   ],
   "metadata": {}
  },
  {
   "cell_type": "markdown",
   "source": [
    "Trie树的核心思想是空间换时间，典型应用是用于统计和排序大量的字符串（但不仅限于字符串），经常被搜索引擎系统用于文本词频统计。"
   ],
   "metadata": {}
  },
  {
   "cell_type": "markdown",
   "source": [
    "它的优点是:最大限度地减少无谓的字符串比较，查询效率比哈希表高。"
   ],
   "metadata": {}
  },
  {
   "cell_type": "markdown",
   "source": [
    "分组思想——前缀相同的字符串在同一子树中<br>\r\n",
    "利用字符串的公共前缀来降低查询时间的开销以达到提高效率的目的\r\n"
   ],
   "metadata": {}
  },
  {
   "cell_type": "markdown",
   "source": [
    "### 208. 实现 Trie (前缀树) https://leetcode-cn.com/problems/implement-trie-prefix-tree/"
   ],
   "metadata": {}
  },
  {
   "cell_type": "code",
   "execution_count": null,
   "source": [
    "class Node:\r\n",
    "    def __init__(self) -> None:\r\n",
    "        self.child={}\r\n",
    "        self.count=0\r\n",
    "class Trie:\r\n",
    "    def __init__(self):\r\n",
    "        \"\"\"\r\n",
    "        Initialize your data structure here.\r\n",
    "        \"\"\"\r\n",
    "        self.root=Node()\r\n",
    "\r\n",
    "    def insert(self, word: str) -> None:\r\n",
    "        \"\"\"\r\n",
    "        Inserts a word into the trie.\r\n",
    "        \"\"\"\r\n",
    "        self.find(word,True,False)\r\n",
    "\r\n",
    "    def search(self, word: str) -> bool:\r\n",
    "        \"\"\"\r\n",
    "        Returns if the word is in the trie.\r\n",
    "        \"\"\"\r\n",
    "        return self.find(word,False,False)\r\n",
    "\r\n",
    "    def startsWith(self, prefix: str) -> bool:\r\n",
    "        \"\"\"\r\n",
    "        Returns if there is any word in the trie that starts with the given prefix.\r\n",
    "        \"\"\"\r\n",
    "        return self.find(prefix,False,True)\r\n",
    "    def find(self,word,isInsert,isPefix):\r\n",
    "        cur=self.root\r\n",
    "        for s in word:\r\n",
    "            if (s not in cur.child):\r\n",
    "                if isInsert:\r\n",
    "                    cur.child[s]=Node()\r\n",
    "                else:\r\n",
    "                    return False\r\n",
    "            cur=cur.child[s]\r\n",
    "        if isInsert:\r\n",
    "            cur.count+=1\r\n",
    "            return\r\n",
    "        if isPefix:\r\n",
    "            return True\r\n",
    "        return cur.count>0"
   ],
   "outputs": [],
   "metadata": {}
  },
  {
   "cell_type": "markdown",
   "source": [
    "将insert,search,startsWith抽象出find是自己做的时候没考虑到的，以后碰到重复代买，还需要多思考能否进一步重构。"
   ],
   "metadata": {}
  },
  {
   "cell_type": "markdown",
   "source": [
    "### 212. 单词搜索 II https://leetcode-cn.com/problems/word-search-ii/"
   ],
   "metadata": {}
  },
  {
   "cell_type": "code",
   "execution_count": null,
   "source": [
    "class Node:\r\n",
    "    def __init__(self) -> None:\r\n",
    "        self.child={}\r\n",
    "        self.word=\"\"\r\n",
    "class Trie:\r\n",
    "    def __init__(self) -> None:\r\n",
    "        self.root=Node()\r\n",
    "    def insert(self,word):\r\n",
    "        cur=self.root\r\n",
    "        for s in word:\r\n",
    "            if s not in cur.child:\r\n",
    "                cur.child[s]=Node()\r\n",
    "            cur=cur.child[s]\r\n",
    "        cur.word=word\r\n",
    "class Solution:\r\n",
    "    def findWords(self, board: List[List[str]], words: List[str]) -> List[str]:\r\n",
    "        self.res=[]\r\n",
    "        tire=Trie()\r\n",
    "        for word in words:\r\n",
    "            tire.insert(word)\r\n",
    "        self.row=len(board)\r\n",
    "        self.col=len(board[0])\r\n",
    "        self.visit=[[False]*self.col for _ in range(self.row)]\r\n",
    "        self.board=board\r\n",
    "        for i in range(self.row):\r\n",
    "            for j in range(self.col):\r\n",
    "                self.visit[i][j]=True\r\n",
    "                self.dfs(i,j,tire.root)\r\n",
    "                self.visit[i][j]=False\r\n",
    "        return self.res\r\n",
    "    def dfs(self,i,j,cur):\r\n",
    "        s=self.board[i][j]\r\n",
    "        if s not in cur.child:\r\n",
    "            return\r\n",
    "        father=cur\r\n",
    "        cur=cur.child[s]\r\n",
    "        if cur.word:\r\n",
    "            self.res.append(cur.word)\r\n",
    "            cur.word=\"\"\r\n",
    "        if not cur.child:\r\n",
    "            father.child.pop(s)\r\n",
    "        for nx,ny in [(i-1,j),(i+1,j),(i,j-1),(i,j+1)]:\r\n",
    "            if nx>=0 and nx<self.row and ny>=0 and ny<self.col:\r\n",
    "                if self.visit[nx][ny]==False:\r\n",
    "                    self.visit[nx][ny]=True\r\n",
    "                    self.dfs(nx,ny,cur)\r\n",
    "                    self.visit[nx][ny]=False"
   ],
   "outputs": [],
   "metadata": {}
  },
  {
   "cell_type": "markdown",
   "source": [
    "这题预习的时候也做过，但时间开销较大6172ms,老师做了如下优化（324ms）：<br>\r\n",
    "1、结点上存储单词的额外信息为完整的单词，减少还原单词所需开销<br>\r\n",
    "2、visit回溯记得还原<br>\r\n",
    "3、为了避免重复，访问过的单词利用dfs特性进行删除。减少重复的方法目前老师教了3种:①是事先判断处理，在3数之后中，排序之后发现与前一个元素一样直接continue；②是在递归中，括号生成，分治划分子问题，注意在划分的时候让2个子问题本身是无重叠的，同样在动态规划中，一个状态的决策之间也需满足不重不漏，也必须保证决策之间的互斥性，从本质上看，二者都是树（无环图），该原理一致；③是事后处理现场，也就是本例，也就是“过河拆桥”，用完了也就可以删除了，避免影响后续分析，带来不必要的时间开销。"
   ],
   "metadata": {}
  },
  {
   "cell_type": "markdown",
   "source": [
    "# 并查集"
   ],
   "metadata": {}
  },
  {
   "cell_type": "markdown",
   "source": [
    "连接问题（并查集）vs路径问题（bfs\\dfs)<br>\r\n",
    "当问题不需要返回确定的路径时，可以选用并查集，效率比深搜和广搜快；<br>\r\n",
    "类似堆和搜索树，堆只要最大\\最小值，所需信息没有搜索树多，时间效率也更优。"
   ],
   "metadata": {}
  },
  {
   "cell_type": "markdown",
   "source": [
    "### 省份数量 https://leetcode-cn.com/problems/number-of-provinces/"
   ],
   "metadata": {}
  },
  {
   "cell_type": "code",
   "execution_count": null,
   "source": [
    "class UnoinFind:\r\n",
    "    def __init__(self,n) -> None:\r\n",
    "        self.parent=[0]*n\r\n",
    "        self.size=n\r\n",
    "        for i in range(n):\r\n",
    "            self.parent[i]=i\r\n",
    "    def find(self,p):\r\n",
    "        if self.parent[p]!=p:\r\n",
    "            self.parent[p]=self.find(self.parent[p])\r\n",
    "        return self.parent[p]\r\n",
    "    def connect(self,p,q):\r\n",
    "        fp=self.find(p)\r\n",
    "        fq=self.find(q)\r\n",
    "        if fp!=fq:\r\n",
    "            self.parent[fp]=fq\r\n",
    "            self.size-=1\r\n",
    "class Solution:\r\n",
    "    def findCircleNum(self, isConnected: List[List[int]]) -> int:\r\n",
    "        n=len(isConnected)\r\n",
    "        unoin=UnoinFind(n)\r\n",
    "        for i in range(n):\r\n",
    "            for j in range(i):\r\n",
    "                if isConnected[i][j]==1:\r\n",
    "                    unoin.connect(i,j)\r\n",
    "        return unoin.size"
   ],
   "outputs": [],
   "metadata": {}
  },
  {
   "cell_type": "markdown",
   "source": [
    "### 130. 被围绕的区域 https://leetcode-cn.com/problems/surrounded-regions/"
   ],
   "metadata": {}
  },
  {
   "cell_type": "code",
   "execution_count": null,
   "source": [
    "class UnionFind:\r\n",
    "    def __init__(self,n) -> None:\r\n",
    "        self.parent=[0]*n\r\n",
    "        for i in range(n):\r\n",
    "            self.parent[i]=i\r\n",
    "    def connect(self,p,q):\r\n",
    "        fp=self.find(p)\r\n",
    "        fq=self.find(q)\r\n",
    "        if fp!=fq:\r\n",
    "            self.parent[fp]=fq\r\n",
    "    def find(self,p):\r\n",
    "        if self.parent[p]!=p:\r\n",
    "            self.parent[p]=self.find(self.parent[p])\r\n",
    "        return self.parent[p]\r\n",
    "class Solution:\r\n",
    "    def solve(self, board: List[List[str]]) -> None:\r\n",
    "        \"\"\"\r\n",
    "        Do not return anything, modify board in-place instead.\r\n",
    "        \"\"\"\r\n",
    "        r=len(board)\r\n",
    "        c=len(board[0])\r\n",
    "        union=UnionFind(r*c+1)\r\n",
    "        s=set()\r\n",
    "        for i in range(r):\r\n",
    "            for j in range(c):\r\n",
    "                if board[i][j]==\"O\":\r\n",
    "                    if i==0 or j==0 or i==r-1 or j==c-1:\r\n",
    "                        union.connect(i*c+j,r*c)\r\n",
    "                    else:\r\n",
    "                        s.add((i,j))\r\n",
    "                    for nx,ny in [(i+1,j),(i,j+1)]:\r\n",
    "                        if nx>=0 and nx<r and ny>=0 and ny<c and board[nx][ny]==\"O\":\r\n",
    "                            union.connect(i*c+j,nx*c+ny)\r\n",
    "        for i,j in s:\r\n",
    "            if union.find(i*c+j)!=union.find(r*c):\r\n",
    "                board[i][j]=\"X\""
   ],
   "outputs": [],
   "metadata": {}
  }
 ],
 "metadata": {
  "orig_nbformat": 4,
  "language_info": {
   "name": "python"
  }
 },
 "nbformat": 4,
 "nbformat_minor": 2
}